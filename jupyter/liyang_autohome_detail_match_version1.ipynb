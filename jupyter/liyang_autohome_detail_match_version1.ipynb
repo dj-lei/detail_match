{
 "cells": [
  {
   "cell_type": "code",
   "execution_count": 1,
   "metadata": {},
   "outputs": [],
   "source": [
    "import math\n",
    "import os\n",
    "import gc\n",
    "import re\n",
    "import sys\n",
    "import time\n",
    "import json\n",
    "import random\n",
    "import datetime\n",
    "import traceback\n",
    "import pickle\n",
    "import pandas as pd\n",
    "import numpy as np\n",
    "\n",
    "import seaborn as sns\n",
    "import matplotlib.pyplot as plt\n",
    "from matplotlib.font_manager import FontProperties\n",
    "from scipy.optimize import leastsq\n",
    "from sklearn.linear_model import LinearRegression\n",
    "from scipy import sparse\n",
    "from xpinyin import Pinyin\n",
    "import numpy as np"
   ]
  },
  {
   "cell_type": "markdown",
   "metadata": {},
   "source": [
    "## 一.车系匹配"
   ]
  },
  {
   "cell_type": "markdown",
   "metadata": {},
   "source": [
    "### 1.力洋车型库处理"
   ]
  },
  {
   "cell_type": "code",
   "execution_count": 51,
   "metadata": {
    "code_folding": [
     0,
     17,
     54
    ]
   },
   "outputs": [],
   "source": [
    "def process_brand_name(df):\n",
    "    \"\"\"\n",
    "    删除没用的字符\n",
    "    \"\"\"\n",
    "    text = df['brand_name']\n",
    "    text = text.replace('MINI(迷你)', 'MINI')\n",
    "    text = text.replace('RUF(如虎)', '如虎')\n",
    "    text = text.replace('Pagani', '帕加尼')\n",
    "    text = text.replace('柯尼赛格', '科尼赛克')\n",
    "    text = text.replace('布嘉迪', '布加迪')\n",
    "    text = text.replace('幻速', '北汽幻速')\n",
    "    text = text.replace('昌河', '北汽昌河')\n",
    "    text = text.replace('汽车', '')\n",
    "    text = text.replace(' ', '')\n",
    "    text = text.lower()\n",
    "    return text\n",
    "\n",
    "def process_model_name(df):\n",
    "    \"\"\"\n",
    "    删除没用的字符\n",
    "    \"\"\"\n",
    "    text = df['model_name']\n",
    "    text = text.replace('(', '')\n",
    "    text = text.replace(')', '')\n",
    "    text = text.replace('（', '')\n",
    "    text = text.replace('）', '')\n",
    "    text = text.replace('-', '')\n",
    "    text = text.replace('·', '')\n",
    "    text = text.replace('・', '')\n",
    "    text = text.replace('/', '')\n",
    "    text = text.replace('°', '')\n",
    "    text = text.replace('!', '')\n",
    "    text = text.lower()\n",
    "    text = text.replace('ⅲ', 'iii')\n",
    "    text = text.replace('pagani', '帕加尼')\n",
    "    text = text.replace('柯尼赛格', '科尼赛克')\n",
    "    text = text.replace('科尼赛格', '科尼赛克')\n",
    "    text = text.replace('布嘉迪', '布加迪')\n",
    "    text = text.replace('吉利康迪全球鹰', '全球鹰')\n",
    "    text = text.replace('汽车', '')\n",
    "    if df['brand_name'] == '长丰猎豹':\n",
    "        text = text.replace('猎豹', '长丰猎豹')\n",
    "    if df['brand_name'] == '北汽制造':\n",
    "        text = text.replace('北汽', '')\n",
    "    if df['brand_name'] == '北汽绅宝':\n",
    "        text = text.replace('北京绅宝', '北汽绅宝')\n",
    "    if df['brand_name'] == '北汽幻速':\n",
    "        text = text.replace('幻速', '北汽幻速')\n",
    "    if df['brand_name'] == '北汽昌河':\n",
    "        text = text.replace('昌河', '北汽昌河')\n",
    "    text = text.replace(' ', '')\n",
    "    # text = text.lower()\n",
    "    return text\n",
    "\n",
    "def process_final_text(df):\n",
    "    \"\"\"\n",
    "    删除没用的字符\n",
    "    \"\"\"\n",
    "    text = df['model_name'].replace(df['brand_name'], '')\n",
    "    # text = text.lower()\n",
    "    return df['brand_name']+text"
   ]
  },
  {
   "cell_type": "code",
   "execution_count": 52,
   "metadata": {},
   "outputs": [
    {
     "name": "stdout",
     "output_type": "stream",
     "text": [
      "力洋车系数量: 1763\n",
      "车系名称重复的车系,请人工检查:\n",
      "Empty DataFrame\n",
      "Columns: [final_text, num]\n",
      "Index: []\n"
     ]
    }
   ],
   "source": [
    "open_category = pd.read_csv('../tmp/train/open_category.csv')\n",
    "open_category = open_category.loc[~(open_category['status'] == 'D'), :].reset_index(drop=True)\n",
    "\n",
    "# 人工解决的车系问题\n",
    "open_category.loc[(open_category['id'] == 204), 'name'] = '奔驰A级(进口)'\n",
    "open_category = open_category.loc[~(open_category['id'].isin([1069,1264])), :] \n",
    "\n",
    "liyang_brand = open_category.loc[(open_category['parent'].isnull()), ['id', 'name', 'slug']].rename(columns={'name': 'brand_name', 'slug': 'parent'}).reset_index(drop=True)\n",
    "liyang_model = open_category.loc[(open_category['parent'].notnull()), ['id', 'name', 'slug', 'parent']].rename(columns={'name': 'model_name',\n",
    "             'slug': 'model_slug', 'id': 'model_id'}).reset_index(drop=True)\n",
    "liyang_model = liyang_model.merge(liyang_brand, how='left', on=['parent']).rename(columns={'id': 'brand_id'})\n",
    "liyang_model = liyang_model.loc[:, ['brand_id', 'model_id', 'brand_name', 'model_name', 'model_slug']]\n",
    "\n",
    "liyang_model['brand_name'] = liyang_model.apply(process_brand_name, axis=1)\n",
    "liyang_model['model_name'] = liyang_model.apply(process_model_name, axis=1)\n",
    "liyang_model['final_text'] = liyang_model.apply(process_final_text, axis=1)\n",
    "liyang_model = liyang_model.sort_values(by=['brand_name', 'model_name']).reset_index(drop=True)\n",
    "print('力洋车系数量:',len(liyang_model))\n",
    "\n",
    "verify = liyang_model.groupby(['final_text'])['model_slug'].count().reset_index().rename(columns={'model_slug':'num'})\n",
    "print('车系名称重复的车系,请人工检查:')\n",
    "print(verify.loc[(verify['num'] > 1),:])\n",
    "liyang_model.to_csv('../tmp/train/man_liyang.csv', index=False)"
   ]
  },
  {
   "cell_type": "markdown",
   "metadata": {},
   "source": [
    "### 2.汽车之家车型库处理"
   ]
  },
  {
   "cell_type": "code",
   "execution_count": 59,
   "metadata": {
    "code_folding": [
     0,
     17,
     46
    ]
   },
   "outputs": [],
   "source": [
    "def process_brand_name(df):\n",
    "    \"\"\"\n",
    "    删除没用的字符\n",
    "    \"\"\"\n",
    "    text = df['brand_name']\n",
    "\n",
    "    text = text.replace('Jeep', '吉普')\n",
    "    text = text.replace('SWM斯威汽车', '斯威')\n",
    "    text = text.replace('名爵', 'MG')\n",
    "    text = text.replace('上汽大通', '大通')\n",
    "    text = text.replace('福汽启腾', '启腾')\n",
    "    text = text.replace('汽车', '')\n",
    "    text = text.replace('・', '')\n",
    "    text = text.replace(' ', '')\n",
    "    text = text.lower()\n",
    "    return text\n",
    "\n",
    "def process_model_name(df):\n",
    "    \"\"\"\n",
    "    删除没用的字符\n",
    "    \"\"\"\n",
    "    text = df['model_name']\n",
    "    text = text.lower()\n",
    "    text = text.replace('(', '')\n",
    "    text = text.replace(')', '')\n",
    "    text = text.replace('（', '')\n",
    "    text = text.replace('）', '')\n",
    "    text = text.replace('-', '')\n",
    "    text = text.replace('·', '')\n",
    "    text = text.replace('・', '')\n",
    "    text = text.replace('/', '')\n",
    "    text = text.replace('°', '')\n",
    "    text = text.replace('!', '')\n",
    "    text = text.replace('名爵', 'mg')\n",
    "    text = text.replace('上汽大通', '大通')\n",
    "    text = text.replace('风行', '东风风行')\n",
    "    text = text.replace('swm斯威', '斯威')\n",
    "    if df['brand_name'] == '北汽制造':\n",
    "        text = text.replace('北汽', '')\n",
    "    if df['brand_name'] == '北汽绅宝':\n",
    "        text = text.replace('绅宝', '北汽绅宝')\n",
    "    text = text.replace('汽车', '')\n",
    "    text = text.replace(' ', '')\n",
    "\n",
    "    return text\n",
    "\n",
    "def process_final_text(df):\n",
    "    \"\"\"\n",
    "    删除没用的字符\n",
    "    \"\"\"\n",
    "    text = df['model_name'].replace(df['brand_name'], '')\n",
    "    # text = text.lower()\n",
    "    return df['brand_name']+text"
   ]
  },
  {
   "cell_type": "code",
   "execution_count": 60,
   "metadata": {},
   "outputs": [
    {
     "name": "stdout",
     "output_type": "stream",
     "text": [
      "汽车之家车系数量: 1826\n",
      "车系名称重复的车系,请人工检查:\n",
      "Empty DataFrame\n",
      "Columns: [final_text, num]\n",
      "Index: []\n"
     ]
    }
   ],
   "source": [
    "car_autohome_all = pd.read_csv('../tmp/train/car_autohome_all.csv')\n",
    "car_autohome_model = car_autohome_all.loc[:, ['brand_slug', 'model_slug', 'brand_name', 'model_name']]\n",
    "car_autohome_model = car_autohome_model.drop_duplicates(['brand_slug', 'model_slug']).reset_index(drop=True)\n",
    "car_autohome_model['brand_name'] = car_autohome_model.apply(process_brand_name, axis=1)\n",
    "car_autohome_model['model_name'] = car_autohome_model.apply(process_model_name, axis=1)\n",
    "car_autohome_model['final_text'] = car_autohome_model.apply(process_final_text, axis=1)\n",
    "car_autohome_model = car_autohome_model.sort_values(by=['brand_name', 'model_name']).reset_index(drop=True)\n",
    "car_autohome_model = car_autohome_model.rename(columns={'brand_slug':'car_autohome_brand_id','model_slug':'car_autohome_model_id'})\n",
    "print('汽车之家车系数量:',len(car_autohome_model))\n",
    "\n",
    "verify = car_autohome_model.groupby(['final_text'])['car_autohome_model_id'].count().reset_index().rename(columns={'car_autohome_model_id':'num'})\n",
    "print('车系名称重复的车系,请人工检查:')\n",
    "print(verify.loc[(verify['num'] > 1),:])\n",
    "\n",
    "car_autohome_model.to_csv('../tmp/train/man_car_autohome.csv', index=False)"
   ]
  },
  {
   "cell_type": "code",
   "execution_count": 105,
   "metadata": {},
   "outputs": [
    {
     "name": "stdout",
     "output_type": "stream",
     "text": [
      "<class 'pandas.core.frame.DataFrame'>\n",
      "Int64Index: 1763 entries, 0 to 1762\n",
      "Data columns (total 8 columns):\n",
      "brand_id                 1763 non-null int64\n",
      "model_id                 1763 non-null int64\n",
      "brand_name               1763 non-null object\n",
      "model_name               1763 non-null object\n",
      "model_slug               1763 non-null object\n",
      "final_text               1763 non-null object\n",
      "car_autohome_brand_id    1528 non-null float64\n",
      "car_autohome_model_id    1528 non-null float64\n",
      "dtypes: float64(2), int64(2), object(4)\n",
      "memory usage: 124.0+ KB\n"
     ]
    }
   ],
   "source": [
    "def full_include_match(df, car_autohome):\n",
    "    if str(df['car_autohome_model_id']) != 'nan':\n",
    "        return pd.Series([df['car_autohome_brand_id'], df['car_autohome_model_id']])\n",
    "    else:\n",
    "        match_num = 0\n",
    "        for i in range(0,len(car_autohome)):\n",
    "            liyang_text = set(df['final_text'])\n",
    "            car_autohome_text = set(car_autohome.loc[i, 'final_text'])\n",
    "            intersection = liyang_text.intersection(car_autohome_text)\n",
    "            if (intersection == liyang_text) or (intersection == car_autohome_text):\n",
    "                if len(intersection) > match_num:        \n",
    "                    match_num = len(intersection)\n",
    "                    brand_temp = car_autohome.loc[i, 'car_autohome_brand_id']\n",
    "                    model_temp = car_autohome.loc[i, 'car_autohome_model_id']\n",
    "        if match_num > 0:\n",
    "            return pd.Series([brand_temp, model_temp])\n",
    "    return pd.Series([np.NAN, np.NAN])\n",
    "\n",
    "liyang_model_temp = liyang_model.copy()\n",
    "car_autohome_model_temp = car_autohome_model.loc[:, ['car_autohome_brand_id','car_autohome_model_id','final_text']]\n",
    "model_match = liyang_model_temp.merge(car_autohome_model_temp, how='left', on=['final_text'])\n",
    "car_autohome_data = car_autohome_model_temp.loc[~(car_autohome_model_temp['car_autohome_model_id'].isin(list(model_match.car_autohome_model_id.values))),:].reset_index(drop=True)\n",
    "model_match[['car_autohome_brand_id','car_autohome_model_id']] = model_match.apply(full_include_match, args=(car_autohome_data,), axis=1)\n",
    "\n",
    "verify = model_match.groupby(['car_autohome_model_id'])['model_id'].count().reset_index().rename(columns={'model_id':'num'})\n",
    "verify = verify.loc[(verify['num'] > 1),:]\n",
    "\n",
    "model_match.loc[(model_match['car_autohome_model_id'].isin(list(verify.car_autohome_model_id.values))), ['car_autohome_brand_id','car_autohome_model_id']] = pd.Series([np.NAN,np.NAN])\n",
    "model_match.to_csv('../tmp/train/final_liyang_model.csv', index=False)\n",
    "model_match.info()"
   ]
  },
  {
   "cell_type": "code",
   "execution_count": 163,
   "metadata": {},
   "outputs": [
    {
     "name": "stdout",
     "output_type": "stream",
     "text": [
      "确认是否有重复匹配,请人工检查:\n",
      "Empty DataFrame\n",
      "Columns: [car_autohome_model_id, num]\n",
      "Index: []\n",
      "<class 'pandas.core.frame.DataFrame'>\n",
      "RangeIndex: 1763 entries, 0 to 1762\n",
      "Data columns (total 8 columns):\n",
      "brand_id                 1763 non-null int64\n",
      "model_id                 1763 non-null int64\n",
      "brand_name               1763 non-null object\n",
      "model_name               1763 non-null object\n",
      "model_slug               1763 non-null object\n",
      "final_text               1763 non-null object\n",
      "car_autohome_brand_id    1550 non-null float64\n",
      "car_autohome_model_id    1550 non-null float64\n",
      "dtypes: float64(2), int64(2), object(4)\n",
      "memory usage: 110.3+ KB\n",
      "None\n"
     ]
    }
   ],
   "source": [
    "model_match = pd.read_csv('../tmp/train/final_liyang_model.csv')\n",
    "\n",
    "verify = model_match.groupby(['car_autohome_model_id'])['model_id'].count().reset_index().rename(columns={'model_id':'num'})\n",
    "print('确认是否有重复匹配,请人工检查:')\n",
    "print(verify.loc[(verify['num'] > 1),:])\n",
    "\n",
    "print(model_match.info())"
   ]
  },
  {
   "cell_type": "markdown",
   "metadata": {},
   "source": [
    "## 二.款型匹配"
   ]
  },
  {
   "cell_type": "code",
   "execution_count": 164,
   "metadata": {
    "scrolled": true
   },
   "outputs": [
    {
     "name": "stdout",
     "output_type": "stream",
     "text": [
      "力洋总款型数: 38668\n",
      "力洋匹配的车系量: 1550\n",
      "力洋匹配上车系的款型量: 36511\n",
      "汽车之家车系总量: 1826\n",
      "汽车之家补充的车系量: 276\n",
      "汽车之家匹配的车系量: 1550\n",
      "汽车之家匹配的款型量: 28960\n"
     ]
    }
   ],
   "source": [
    "def process_year(df):\n",
    "    if len(re.findall(r'(\\d+)款',df['detail_model'])) > 0:\n",
    "        return int(re.findall(r'(\\d+)款',df['detail_model'])[0])\n",
    "    else:\n",
    "        return int(re.findall(r'\\d\\d\\d\\d',df['detail_model'])[0])\n",
    "\n",
    "open_model_detail = pd.read_csv('../tmp/train/open_model_detail.csv', low_memory=False)\n",
    "open_model_detail['year'] = open_model_detail.apply(process_year, axis=1)\n",
    "open_model_detail = open_model_detail.rename(columns={'global_slug':'model_slug','year':'online_year'})\n",
    "open_model_detail = open_model_detail.loc[(open_model_detail['price_bn'] > 0), :].reset_index(drop=True)\n",
    "final_model = pd.read_csv('../tmp/train/final_liyang_model.csv')\n",
    "car_autohome_all = pd.read_csv('../tmp/train/car_autohome_all.csv')\n",
    "\n",
    "final_model = final_model.loc[(final_model['car_autohome_model_id'].notnull()), :].reset_index(drop=True)\n",
    "gpj_match_model = open_model_detail.loc[(open_model_detail['model_slug'].isin(list(set(final_model.model_slug.values)))), :]\n",
    "gpj_match_model = gpj_match_model.merge(final_model.loc[:,['model_slug','car_autohome_brand_id','car_autohome_model_id']],how='left',on=['model_slug'])\n",
    "print('力洋总款型数:', len(open_model_detail))\n",
    "print('力洋匹配的车系量:', len(final_model))\n",
    "print('力洋匹配上车系的款型量:', len(gpj_match_model))\n",
    "\n",
    "car_autohome_all = car_autohome_all.drop(['manufacturer','body','energy','volume_extend','volume','emission_standard','listed_year','control'], axis=1)\n",
    "print('汽车之家车系总量:',len(list(set(car_autohome_all.model_slug.values))))\n",
    "\n",
    "# 汽车之家补充的车系\n",
    "supplement_model = car_autohome_all.loc[~(car_autohome_all['model_slug'].isin(list(set(final_model.car_autohome_model_id.values)))), :].reset_index(drop=True)\n",
    "match_model = car_autohome_all.loc[(car_autohome_all['model_slug'].isin(list(set(final_model.car_autohome_model_id.values)))), :].reset_index(drop=True)\n",
    "# match_model = match_model.rename(columns={'model_slug':'car_autohome_model_id','detail_slug':'car_autohome_detail_id'}).loc[:, ['car_autohome_model_id','car_autohome_detail_id','detail_name','price_bn','online_year']]\n",
    "print('汽车之家补充的车系量:', len(list(set(supplement_model.model_slug.values))))\n",
    "print('汽车之家匹配的车系量:', len(list(set(match_model.model_slug.values))))\n",
    "print('汽车之家匹配的款型量:', len(list(set(match_model.detail_slug.values))))\n",
    "# final_detail = gpj_match_model.merge(match_model,how='left',on=['car_autohome_model_id','online_year','price_bn'])"
   ]
  },
  {
   "cell_type": "code",
   "execution_count": 165,
   "metadata": {
    "scrolled": true
   },
   "outputs": [
    {
     "name": "stdout",
     "output_type": "stream",
     "text": [
      "使用力洋款型总量: 26785\n",
      "使用汽车之家款型总量: 3030\n",
      "力洋未匹配上车系年份款型总量: 5927\n"
     ]
    }
   ],
   "source": [
    "def cal_div(df, car_autohome_temp):\n",
    "    car_autohome_temp['price_bn_div'] = abs(df['price_bn'] - car_autohome_temp['price_bn'])\n",
    "    temp = car_autohome_temp.loc[(car_autohome_temp['price_bn_div'] == min(list(car_autohome_temp.price_bn_div.values))),:].reset_index(drop=True)\n",
    "    return pd.Series(list(temp.loc[0, ['detail_slug','detail_name','price_bn']].values))\n",
    "\n",
    "model_year = gpj_match_model.loc[:, ['car_autohome_model_id','online_year']].drop_duplicates(['car_autohome_model_id','online_year'])\n",
    "\n",
    "result_model_year = pd.DataFrame()\n",
    "no_have_model_year = pd.DataFrame()\n",
    "except_model_year = pd.DataFrame()\n",
    "count = 0\n",
    "for car_autohome_model_id,online_year in model_year.loc[:, ['car_autohome_model_id','online_year']].values:\n",
    "    count = count+1\n",
    "    gpj_temp = gpj_match_model.loc[(gpj_match_model['car_autohome_model_id'] == car_autohome_model_id)&(gpj_match_model['online_year'] == online_year), :].reset_index(drop=True)\n",
    "    gpj_temp['car_autohome_detail_id'] = np.NAN\n",
    "    gpj_temp['detail_name'] = np.NAN\n",
    "    gpj_temp['car_autohome_price_bn'] = np.NAN\n",
    "    car_autohome_temp = match_model.loc[(match_model['model_slug'] == car_autohome_model_id)&(match_model['online_year'] == online_year), :].reset_index(drop=True)\n",
    "    if len(car_autohome_temp) == 0:\n",
    "        no_have_model_year = no_have_model_year.append(gpj_temp, sort=False).reset_index(drop=True)\n",
    "        continue\n",
    "    gpj_temp[['car_autohome_detail_id','detail_name','car_autohome_price_bn']] = gpj_temp.apply(cal_div,args=(car_autohome_temp,),axis=1)\n",
    "    gpj_temp['price_bn_rate'] = abs((gpj_temp['price_bn'] - gpj_temp['car_autohome_price_bn']) / gpj_temp['car_autohome_price_bn'])\n",
    "    gpj_temp = gpj_temp.loc[(gpj_temp['price_bn_rate'] <= 0.05), :].reset_index(drop=True)\n",
    "    if (len(gpj_temp)/len(car_autohome_temp)) >= 0.8:\n",
    "        result_model_year = result_model_year.append(gpj_temp, sort=False).reset_index(drop=True)\n",
    "    else:\n",
    "        except_model_year = except_model_year.append(car_autohome_temp, sort=False).reset_index(drop=True)\n",
    "\n",
    "result_model_year = result_model_year.drop(['car_autohome_brand_id','detail_name','car_autohome_price_bn','price_bn_rate'], axis=1)\n",
    "except_model_year = except_model_year.drop(['price_bn_div'], axis=1)\n",
    "print('使用力洋款型总量:',len(result_model_year))\n",
    "print('使用汽车之家款型总量:',len(except_model_year))\n",
    "print('力洋未匹配上车系年份款型总量:',len(no_have_model_year))"
   ]
  },
  {
   "cell_type": "markdown",
   "metadata": {},
   "source": [
    "## 四.品牌车系款型组装"
   ]
  },
  {
   "cell_type": "code",
   "execution_count": 166,
   "metadata": {
    "scrolled": true
   },
   "outputs": [],
   "source": [
    "def process_year(df):\n",
    "    if len(re.findall(r'(\\d+)款',df['detail_model'])) > 0:\n",
    "        return int(re.findall(r'(\\d+)款',df['detail_model'])[0])\n",
    "    else:\n",
    "        return int(re.findall(r'\\d\\d\\d\\d',df['detail_model'])[0])\n",
    "\n",
    "open_category = pd.read_csv('../tmp/train/open_category.csv', low_memory=False)\n",
    "\n",
    "# 人工解决的车系问题\n",
    "open_category = open_category.loc[~(open_category['status'] == 'D'), :].reset_index(drop=True)\n",
    "open_category.loc[(open_category['id'] == 204), 'name'] = '奔驰A级(进口)'\n",
    "open_category = open_category.loc[~(open_category['id'].isin([1069,1264])), :] \n",
    "\n",
    "gpj_brand = open_category.loc[(open_category['parent'].isnull()), :].reset_index(drop=True)\n",
    "gpj_model = open_category.loc[(open_category['parent'].notnull()), :].reset_index(drop=True)\n",
    "\n",
    "gpj_detail = pd.read_csv('../tmp/train/open_model_detail.csv', low_memory=False)\n",
    "gpj_detail['year'] = gpj_detail.apply(process_year, axis=1)\n",
    "gpj_detail = gpj_detail.rename(columns={'global_slug':'model_slug','year':'online_year'})\n",
    "gpj_detail = gpj_detail.loc[(gpj_detail['price_bn'] > 0), :].reset_index(drop=True)\n",
    "\n",
    "final_model = pd.read_csv('../tmp/train/final_liyang_model.csv')\n",
    "car_autohome_all = pd.read_csv('../tmp/train/car_autohome_all.csv')"
   ]
  },
  {
   "cell_type": "code",
   "execution_count": 167,
   "metadata": {
    "scrolled": true
   },
   "outputs": [
    {
     "name": "stdout",
     "output_type": "stream",
     "text": [
      "补充品牌数量: 37\n",
      "力洋匹配上品牌数量: 141\n",
      "汽车之家品牌数量: 196\n",
      "最终组合品牌数量: 178\n"
     ]
    }
   ],
   "source": [
    "# 补充品牌\n",
    "def process_brand(df, column_name):\n",
    "    return 'car_autohome_brand_'+str(df[column_name])\n",
    "\n",
    "def process_model(df, column_name):\n",
    "    return 'car_autohome_model_'+str(df[column_name])\n",
    "\n",
    "def process_detail(df, column_name):\n",
    "    return 'car_autohome_detail_'+str(df[column_name])\n",
    "\n",
    "def process_keywords(df):\n",
    "    p = Pinyin()\n",
    "    keywords = p.get_pinyin(df['name'], '')\n",
    "    final_keywords = ','+keywords+','+df['name']+','+keywords\n",
    "    first_letter = p.get_initial(df['name'][0])\n",
    "    return pd.Series([final_keywords,first_letter,keywords])\n",
    "\n",
    "liyang_brand = final_model.loc[(final_model['car_autohome_brand_id'].notnull()), :].reset_index(drop=True)\n",
    "supplement_brand = list(set(supplement_model.brand_slug.values).difference(set(liyang_brand.car_autohome_brand_id.values)))\n",
    "supplement_brand = car_autohome_all.loc[(car_autohome_all['brand_slug'].isin(supplement_brand)), ['brand_slug','brand_name']]\n",
    "supplement_brand = supplement_brand.drop_duplicates(['brand_slug','brand_name']).reset_index(drop=True)\n",
    "supplement_brand = supplement_brand.rename(columns={'brand_name':'name','brand_slug':'slug'})\n",
    "supplement_brand['car_autohome_brand_id'] = supplement_brand['slug']\n",
    "supplement_brand['slug'] = supplement_brand.apply(process_brand,args=('slug',), axis=1)\n",
    "supplement_brand[['keywords', 'first_letter', 'pinyin']] = supplement_brand.apply(process_keywords, axis=1)\n",
    "supplement_brand = supplement_brand.drop(['car_autohome_brand_id'], axis=1)\n",
    "\n",
    "gpj_brand = gpj_brand.loc[(gpj_brand['id'].isin(list(set(liyang_brand.brand_id.values)))), :].reset_index(drop=True)\n",
    "gpj_brand = gpj_brand.append(supplement_brand, sort=False).reset_index(drop=True)\n",
    "gpj_brand['has_detailmodel'] = 1\n",
    "gpj_brand['units'] = 0\n",
    "gpj_brand['score'] = 0\n",
    "gpj_brand['status'] = 'Y'\n",
    "gpj_brand['popular'] = 'B'\n",
    "gpj_brand['on_sale'] = '1'\n",
    "gpj_brand.to_csv('../tmp/train/combine_brand.csv', index=False)\n",
    "print('补充品牌数量:', len(supplement_brand))\n",
    "print('力洋匹配上品牌数量:', len(list(set(liyang_brand.brand_id.values))))\n",
    "print('汽车之家品牌数量:', len(list(set(car_autohome_all.brand_slug.values))))\n",
    "print('最终组合品牌数量:', len(gpj_brand))"
   ]
  },
  {
   "cell_type": "code",
   "execution_count": 168,
   "metadata": {},
   "outputs": [
    {
     "name": "stdout",
     "output_type": "stream",
     "text": [
      "补充车系数量: 276\n",
      "力洋匹配上车系数量: 1550\n",
      "汽车之家车系数量: 1826\n",
      "最终组合车系数量: 1826\n"
     ]
    }
   ],
   "source": [
    "# 补充车系\n",
    "def process_brand_step2(df, final_model, gpj_brand):\n",
    "    brand_id = final_model.loc[(final_model['car_autohome_brand_id'] == df['car_autohome_brand_id']), 'brand_id'].values\n",
    "    if len(brand_id) == 0:\n",
    "        return 'car_autohome_brand_'+str(df['car_autohome_brand_id'])\n",
    "    slug = gpj_brand.loc[(gpj_brand['id'] == brand_id[0]), 'slug'].values[0]\n",
    "    return slug\n",
    "\n",
    "# final_model = final_model.drop(['car_autohome_brand_id'],axis=1)\n",
    "# temp_copy = final_brand.loc[:, ['id','car_autohome_brand_id']].rename(columns={'id':'brand_id'})\n",
    "# final_model = final_model.merge(temp_copy,how='left',on=['brand_id'])\n",
    "liyang_model = final_model.loc[(final_model['car_autohome_model_id'].notnull()), :].reset_index(drop=True)\n",
    "gpj_model = gpj_model.loc[(gpj_model['id'].isin(list(set(liyang_model.model_id.values)))),:].reset_index(drop=True)\n",
    "temp_copy = final_model.loc[:, ['model_slug','car_autohome_model_id']].rename(columns={'model_slug':'slug'})\n",
    "gpj_model = gpj_model.merge(temp_copy, how='left', on=['slug'])\n",
    "\n",
    "supplement_model_temp = supplement_model.loc[:, ['brand_slug','model_name','model_slug']]\n",
    "supplement_model_temp = supplement_model_temp.drop_duplicates(['brand_slug','model_name','model_slug'])\n",
    "supplement_model_temp = supplement_model_temp.rename(columns={'brand_slug':'parent', 'model_name':'name', 'model_slug':'slug'})\n",
    "supplement_model_temp['car_autohome_model_id'] = supplement_model_temp['slug']\n",
    "supplement_model_temp['slug'] = supplement_model_temp.apply(process_model,args=('slug',), axis=1)\n",
    "supplement_model_temp[['keywords', 'first_letter', 'pinyin']] = supplement_model_temp.apply(process_keywords, axis=1)\n",
    "supplement_model_temp = supplement_model_temp.drop(['first_letter'], axis=1)\n",
    "merge = car_autohome_all.loc[:, ['model_slug', 'body', 'manufacturer']].drop_duplicates(['model_slug', 'body', 'manufacturer']).rename(columns={'model_slug':'car_autohome_model_id','body':'classified','manufacturer':'mum'}).reset_index(drop=True)\n",
    "supplement_model_temp = supplement_model_temp.merge(merge, how='left', on=['car_autohome_model_id'])\n",
    "supplement_model_temp['normalized_name'] = supplement_model_temp['name']\n",
    "\n",
    "gpj_model = gpj_model.append(supplement_model_temp, sort=False).reset_index(drop=True)\n",
    "car_autohome_model = car_autohome_all.loc[:,['brand_slug','model_slug']].drop_duplicates(['brand_slug','model_slug']).rename(columns={'model_slug':'car_autohome_model_id','brand_slug':'car_autohome_brand_id'}).reset_index(drop=True)\n",
    "gpj_model = gpj_model.merge(car_autohome_model, how='left', on=['car_autohome_model_id'])\n",
    "gpj_model['parent'] = gpj_model.apply(process_brand_step2,args=(final_model, gpj_brand), axis=1)\n",
    "gpj_model = gpj_model.drop(['car_autohome_brand_id'], axis=1)\n",
    "gpj_model['has_detailmodel'] = 1\n",
    "gpj_model['units'] = 0\n",
    "gpj_model['score'] = 0\n",
    "gpj_model['status'] = 'Y'\n",
    "gpj_model['popular'] = 'B'\n",
    "gpj_model['on_sale'] = '1'\n",
    "gpj_model.to_csv('../tmp/train/combine_model.csv', index=False)\n",
    "print('补充车系数量:', len(list(set(supplement_model_temp.slug.values))))\n",
    "print('力洋匹配上车系数量:', len(liyang_model))\n",
    "print('汽车之家车系数量:', len(list(set(car_autohome_all.model_slug.values))))\n",
    "print('最终组合车系数量:', len(gpj_model))"
   ]
  },
  {
   "cell_type": "code",
   "execution_count": 169,
   "metadata": {
    "scrolled": true
   },
   "outputs": [
    {
     "name": "stdout",
     "output_type": "stream",
     "text": [
      "补充款型数量: 7258\n",
      "力洋匹配上款型数量: 26785\n",
      "汽车之家款型数量: 31437\n",
      "最终组合款型数量: 34043\n"
     ]
    }
   ],
   "source": [
    "# 补充款型\n",
    "def process_model_step2(df, gpj_model, column_name):\n",
    "    return gpj_model.loc[(gpj_model['car_autohome_model_id'] == df['model_slug']), 'slug'].values[0]\n",
    "\n",
    "model_year = car_autohome_all.loc[:, ['model_slug','online_year']].drop_duplicates(['model_slug','online_year'])\n",
    "\n",
    "supplement_detail = supplement_model.append(except_model_year, sort=False).reset_index(drop=True)\n",
    "for model_slug,online_year in model_year.loc[:, ['model_slug','online_year']].values:\n",
    "    gpj_temp = result_model_year.loc[(result_model_year['car_autohome_model_id'] == model_slug)&(result_model_year['online_year'] == online_year), :].reset_index(drop=True)\n",
    "    car_autohome_temp = car_autohome_all.loc[(car_autohome_all['model_slug'] == model_slug)&(car_autohome_all['online_year'] == online_year), :].reset_index(drop=True)\n",
    "    if len(gpj_temp) == 0:\n",
    "        supplement_detail = supplement_detail.append(car_autohome_temp, sort=False).reset_index(drop=True)\n",
    "        \n",
    "liyang_detail = result_model_year.copy()\n",
    "liyang_detail = liyang_detail.drop(['car_autohome_model_id'], axis=1)\n",
    "supplement_detail = car_autohome_all.loc[(car_autohome_all['detail_slug'].isin(list(set(supplement_detail.detail_slug.values)))), :]\n",
    "supplement_detail = supplement_detail.loc[:, ['model_slug','detail_slug','detail_name','price_bn','online_year','volume','control','volume_extend','emission_standard','listed_year']]\n",
    "supplement_detail = supplement_detail.rename(columns={'detail_slug':'car_autohome_detail_id',\n",
    "                                                      'detail_name':'detail_model'})\n",
    "supplement_detail['model_slug'] = supplement_detail.apply(process_model_step2, args=(gpj_model, 'model_slug',), axis=1)\n",
    "supplement_detail['model_detail_slug'] = supplement_detail.apply(process_detail, args=('car_autohome_detail_id',), axis=1)\n",
    "\n",
    "gpj_detail = liyang_detail.append(supplement_detail, sort=False)\n",
    "gpj_detail = gpj_detail.rename(columns={'model_slug':'global_slug','online_year':'year','model_detail_slug':'detail_model_slug'})\n",
    "gpj_detail['created_on'] = datetime.datetime.now().strftime(\"%Y-%m-%d %H:%M:%S\")\n",
    "gpj_detail['status'] = 'Y'\n",
    "gpj_detail['has_param'] = 'Y'\n",
    "gpj_detail.to_csv('../tmp/train/combine_detail.csv', index=False)\n",
    "print('补充款型数量:', len(supplement_detail))\n",
    "print('力洋匹配上款型数量:', len(liyang_detail))\n",
    "print('汽车之家款型数量:', len(list(set(car_autohome_all.detail_slug.values))))\n",
    "print('最终组合款型数量:', len(gpj_detail))"
   ]
  },
  {
   "cell_type": "markdown",
   "metadata": {},
   "source": [
    "## 五.拷贝款型库到api包"
   ]
  },
  {
   "cell_type": "code",
   "execution_count": 170,
   "metadata": {},
   "outputs": [],
   "source": [
    "def process_mum(df):\n",
    "    text = df['mum']\n",
    "    regex = re.compile(\"\\(进口\\)\")\n",
    "    if len(regex.findall(text)) != 0:\n",
    "        text = '进口' + re.sub(\"\\(进口\\)\", '', text)\n",
    "    text = text.replace('・','')\n",
    "    text = text.replace('-','')\n",
    "    text = text.replace('一汽大众奥迪','一汽奥迪')\n",
    "    text = text.replace('北京汽车','北汽')\n",
    "    text = text.replace('上汽通用','通用')\n",
    "    text = text.replace('北汽昌河','昌河汽车')\n",
    "    text = text.replace('上汽大众','上海大众')\n",
    "    text = text.replace('福田汽车','福田')\n",
    "    text = text.replace('一汽海马','海马汽车')\n",
    "    text = text.replace('Jeep','吉普')\n",
    "    text = text.replace('进口路虎','路虎')\n",
    "    text = text.replace('力帆汽车','重庆力帆')\n",
    "    text = text.replace('领克汽车','领克')\n",
    "    text = text.replace('东风启辰','东风日产')\n",
    "    text = text.replace('蔚来汽车','蔚来')\n",
    "    text = text.replace('吉利全球鹰','吉利康迪')\n",
    "    \n",
    "    return text\n",
    "\n",
    "evaluation_predict_path = '/home/ml/ProgramProject/evaluation-predict/tmp/train/'\n",
    "\n",
    "gpj_brand = pd.read_csv('../tmp/train/combine_brand.csv',low_memory=False)\n",
    "gpj_model = pd.read_csv('../tmp/train/combine_model.csv',low_memory=False)\n",
    "gpj_detail = pd.read_csv('../tmp/train/combine_detail.csv',low_memory=False)\n",
    "\n",
    "gpj_model['mum'] = gpj_model.apply(process_mum, axis=1)\n",
    "gpj_model.to_csv('../tmp/train/combine_model.csv', index=False)\n",
    "\n",
    "gpj_brand.to_csv(evaluation_predict_path + 'combine_brand.csv', index=False)\n",
    "gpj_model.to_csv(evaluation_predict_path + 'combine_model.csv', index=False)\n",
    "gpj_detail.to_csv(evaluation_predict_path + 'combine_detail.csv', index=False)"
   ]
  },
  {
   "cell_type": "markdown",
   "metadata": {},
   "source": [
    "## 六.新款型匹配"
   ]
  },
  {
   "cell_type": "code",
   "execution_count": 171,
   "metadata": {},
   "outputs": [
    {
     "name": "stdout",
     "output_type": "stream",
     "text": [
      "力洋总款型数: 38668\n",
      "力洋匹配的车系量: 1550\n",
      "力洋匹配上车系的款型量: 36511\n",
      "汽车之家新增款型总量: 553\n",
      "汽车之家新增款型的车系总量: 116\n",
      "汽车之家补充的车系量: 25\n",
      "汽车之家匹配的车系量: 91\n",
      "汽车之家匹配的款型量: 445\n"
     ]
    }
   ],
   "source": [
    "def process_year(df):\n",
    "    if len(re.findall(r'(\\d+)款',df['detail_model'])) > 0:\n",
    "        return int(re.findall(r'(\\d+)款',df['detail_model'])[0])\n",
    "    else:\n",
    "        return int(re.findall(r'\\d\\d\\d\\d',df['detail_model'])[0])\n",
    "\n",
    "open_model_detail = pd.read_csv('../tmp/train/open_model_detail.csv', low_memory=False)\n",
    "open_model_detail['year'] = open_model_detail.apply(process_year, axis=1)\n",
    "open_model_detail = open_model_detail.rename(columns={'global_slug':'model_slug','year':'online_year'})\n",
    "open_model_detail = open_model_detail.loc[(open_model_detail['price_bn'] > 0), :].reset_index(drop=True)\n",
    "final_model = pd.read_csv('../tmp/train/final_liyang_model.csv')\n",
    "car_autohome_all = pd.read_csv('../tmp/train/car_autohome_all.csv')\n",
    "old_car_autohome_all = car_autohome_all.loc[~(car_autohome_all['detail_slug'].isin(list(set(add_new_detail.detail_slug.values)))), :]\n",
    "\n",
    "final_model = final_model.loc[(final_model['car_autohome_model_id'].notnull()), :].reset_index(drop=True)\n",
    "gpj_match_model = open_model_detail.loc[(open_model_detail['model_slug'].isin(list(set(final_model.model_slug.values)))), :]\n",
    "gpj_match_model = gpj_match_model.merge(final_model.loc[:,['model_slug','car_autohome_brand_id','car_autohome_model_id']],how='left',on=['model_slug'])\n",
    "print('力洋总款型数:', len(open_model_detail))\n",
    "print('力洋匹配的车系量:', len(final_model))\n",
    "print('力洋匹配上车系的款型量:', len(gpj_match_model))\n",
    "\n",
    "add_new_detail = pd.read_csv('../tmp/train/add_new_detail.csv')\n",
    "add_new_detail = add_new_detail.drop(['manufacturer','body','energy'], axis=1)\n",
    "print('汽车之家新增款型总量:',len(list(set(add_new_detail.detail_slug.values))))\n",
    "print('汽车之家新增款型的车系总量:',len(list(set(add_new_detail.model_slug.values))))\n",
    "\n",
    "# 汽车之家补充的车系\n",
    "supplement_model = add_new_detail.loc[~(add_new_detail['model_slug'].isin(list(set(old_car_autohome_all.model_slug.values)))), :].reset_index(drop=True)\n",
    "match_model = add_new_detail.loc[(add_new_detail['model_slug'].isin(list(set(old_car_autohome_all.model_slug.values)))), :].reset_index(drop=True)\n",
    "# match_model = match_model.rename(columns={'model_slug':'car_autohome_model_id','detail_slug':'car_autohome_detail_id'}).loc[:, ['car_autohome_model_id','car_autohome_detail_id','detail_name','price_bn','online_year']]\n",
    "print('汽车之家补充的车系量:', len(list(set(supplement_model.model_slug.values))))\n",
    "print('汽车之家匹配的车系量:', len(list(set(match_model.model_slug.values))))\n",
    "print('汽车之家匹配的款型量:', len(list(set(match_model.detail_slug.values))))"
   ]
  },
  {
   "cell_type": "code",
   "execution_count": 172,
   "metadata": {},
   "outputs": [
    {
     "name": "stdout",
     "output_type": "stream",
     "text": [
      "使用力洋款型总量: 178\n",
      "使用汽车之家款型总量: 609\n"
     ]
    }
   ],
   "source": [
    "def cal_div(df, car_autohome_temp):\n",
    "    car_autohome_temp['price_bn_div'] = abs(df['price_bn'] - car_autohome_temp['price_bn'])\n",
    "    temp = car_autohome_temp.loc[(car_autohome_temp['price_bn_div'] == min(list(car_autohome_temp.price_bn_div.values))),:].reset_index(drop=True)\n",
    "    return pd.Series(list(temp.loc[0, ['detail_slug','detail_name','price_bn']].values))\n",
    "\n",
    "model_year = add_new_detail.loc[:, ['model_slug','online_year']].drop_duplicates(['model_slug','online_year'])\n",
    "\n",
    "result_model_year = pd.DataFrame()\n",
    "no_have_model_year = pd.DataFrame()\n",
    "except_model_year = pd.DataFrame()\n",
    "count = 0\n",
    "for car_autohome_model_id,online_year in model_year.loc[:, ['model_slug','online_year']].values:\n",
    "    count = count+1\n",
    "    gpj_temp = gpj_match_model.loc[(gpj_match_model['car_autohome_model_id'] == car_autohome_model_id)&(gpj_match_model['online_year'] == online_year), :].reset_index(drop=True)\n",
    "    gpj_temp['car_autohome_detail_id'] = np.NAN\n",
    "    gpj_temp['detail_name'] = np.NAN\n",
    "    gpj_temp['car_autohome_price_bn'] = np.NAN\n",
    "    car_autohome_temp = car_autohome_all.loc[(car_autohome_all['model_slug'] == car_autohome_model_id)&(car_autohome_all['online_year'] == online_year), :].reset_index(drop=True)\n",
    "    if len(gpj_temp) == 0:\n",
    "        except_model_year = except_model_year.append(car_autohome_temp, sort=False).reset_index(drop=True)\n",
    "        continue\n",
    "    gpj_temp[['car_autohome_detail_id','detail_name','car_autohome_price_bn']] = gpj_temp.apply(cal_div,args=(car_autohome_temp,),axis=1)\n",
    "    gpj_temp['price_bn_rate'] = abs((gpj_temp['price_bn'] - gpj_temp['car_autohome_price_bn']) / gpj_temp['car_autohome_price_bn'])\n",
    "    gpj_temp = gpj_temp.loc[(gpj_temp['price_bn_rate'] <= 0.05), :].reset_index(drop=True)\n",
    "    if (len(gpj_temp)/len(car_autohome_temp)) >= 0.8:\n",
    "        result_model_year = result_model_year.append(gpj_temp, sort=False).reset_index(drop=True)\n",
    "    else:\n",
    "        except_model_year = except_model_year.append(car_autohome_temp, sort=False).reset_index(drop=True)\n",
    "\n",
    "result_model_year = result_model_year.drop(['car_autohome_brand_id','detail_name','car_autohome_price_bn','price_bn_rate'], axis=1)\n",
    "except_model_year = except_model_year.drop(['price_bn_div'], axis=1)\n",
    "print('使用力洋款型总量:',len(result_model_year))\n",
    "print('使用汽车之家款型总量:',len(except_model_year))"
   ]
  },
  {
   "cell_type": "code",
   "execution_count": 173,
   "metadata": {
    "scrolled": true
   },
   "outputs": [
    {
     "name": "stdout",
     "output_type": "stream",
     "text": [
      "补充品牌数量: 4\n",
      "汽车之家品牌数量: 67\n"
     ]
    }
   ],
   "source": [
    "# open_category = pd.read_csv('../tmp/train/open_category.csv', low_memory=False)\n",
    "# gpj_brand = open_category.loc[(open_category['parent'].isnull()), :].reset_index(drop=True)\n",
    "# gpj_model = open_category.loc[(open_category['parent'].notnull()), :].reset_index(drop=True)\n",
    "# gpj_detail = pd.read_csv('../tmp/train/open_model_detail.csv', low_memory=False)\n",
    "add_new_detail = pd.read_csv('../tmp/train/add_new_detail.csv')\n",
    "car_autohome_all = pd.read_csv('../tmp/train/car_autohome_all.csv')\n",
    "old_car_autohome_all = car_autohome_all.loc[~(car_autohome_all['detail_slug'].isin(list(set(add_new_detail.detail_slug.values)))), :]\n",
    "\n",
    "final_model = pd.read_csv('../tmp/train/final_liyang_model.csv')\n",
    "combine_brand = pd.read_csv('../tmp/train/combine_brand.csv',low_memory=False)\n",
    "combine_model = pd.read_csv('../tmp/train/combine_model.csv',low_memory=False)\n",
    "combine_detail = pd.read_csv('../tmp/train/combine_detail.csv',low_memory=False)\n",
    "\n",
    "# 补充品牌\n",
    "def process_brand(df, column_name):\n",
    "    return 'car_autohome_brand_'+str(df[column_name])\n",
    "\n",
    "def process_model(df, column_name):\n",
    "    return 'car_autohome_model_'+str(df[column_name])\n",
    "\n",
    "def process_detail(df, column_name):\n",
    "    return 'car_autohome_detail_'+str(df[column_name])\n",
    "\n",
    "def process_keywords(df):\n",
    "    p = Pinyin()\n",
    "    keywords = p.get_pinyin(df['name'], '')\n",
    "    final_keywords = ','+keywords+','+df['name']+','+keywords\n",
    "    first_letter = p.get_initial(df['name'][0])\n",
    "    return pd.Series([final_keywords,first_letter,keywords])\n",
    "\n",
    "supplement_brand = list(set(add_new_detail.brand_slug.values).difference(set(old_car_autohome_all.brand_slug.values)))\n",
    "supplement_brand = add_new_detail.loc[(add_new_detail['brand_slug'].isin(supplement_brand)), ['brand_slug','brand_name']]\n",
    "supplement_brand = supplement_brand.drop_duplicates(['brand_slug','brand_name']).reset_index(drop=True)\n",
    "supplement_brand = supplement_brand.rename(columns={'brand_name':'name','brand_slug':'slug'})\n",
    "# supplement_brand['car_autohome_brand_id'] = supplement_brand['slug']\n",
    "supplement_brand['slug'] = supplement_brand.apply(process_brand,args=('slug',), axis=1)\n",
    "supplement_brand[['keywords', 'first_letter', 'pinyin']] = supplement_brand.apply(process_keywords, axis=1)\n",
    "\n",
    "gpj_brand = pd.DataFrame([], columns=combine_brand.columns)\n",
    "gpj_brand = gpj_brand.append(supplement_brand, sort=False)\n",
    "gpj_brand['has_detailmodel'] = 1\n",
    "gpj_brand['units'] = 0\n",
    "gpj_brand['score'] = 0\n",
    "gpj_brand['status'] = 'Y'\n",
    "gpj_brand['popular'] = 'B'\n",
    "gpj_brand['on_sale'] = '1'\n",
    "gpj_brand.to_csv('../tmp/train/add_combine_brand.csv', index=False)\n",
    "print('补充品牌数量:', len(supplement_brand))\n",
    "print('汽车之家品牌数量:', len(list(set(add_new_detail.brand_slug.values))))"
   ]
  },
  {
   "cell_type": "code",
   "execution_count": 174,
   "metadata": {
    "scrolled": true
   },
   "outputs": [
    {
     "name": "stdout",
     "output_type": "stream",
     "text": [
      "补充车系数量: 25\n",
      "汽车之家车系数量: 116\n"
     ]
    }
   ],
   "source": [
    "# 补充车系\n",
    "def process_brand_step2(df, final_model, gpj_brand):\n",
    "    brand_id = final_model.loc[(final_model['car_autohome_brand_id'] == df['car_autohome_brand_id']), 'brand_id'].values\n",
    "    if len(brand_id) == 0:\n",
    "        return 'car_autohome_brand_'+str(df['car_autohome_brand_id'])\n",
    "    slug = gpj_brand.loc[(gpj_brand['id'] == brand_id[0]), 'slug'].values[0]\n",
    "    return slug\n",
    "    \n",
    "gpj_brand = combine_brand.append(gpj_brand, sort=False)\n",
    "supplement_model = add_new_detail.loc[~(add_new_detail['model_slug'].isin(list(set(combine_model.car_autohome_model_id.values)))), :]\n",
    "supplement_model_temp = supplement_model.loc[:, ['brand_slug','model_name','model_slug']]\n",
    "supplement_model_temp = supplement_model_temp.drop_duplicates(['brand_slug','model_name','model_slug'])\n",
    "supplement_model_temp = supplement_model_temp.rename(columns={'brand_slug':'parent', 'model_name':'name', 'model_slug':'slug'})\n",
    "supplement_model_temp['car_autohome_model_id'] = supplement_model_temp['slug']\n",
    "supplement_model_temp['slug'] = supplement_model_temp.apply(process_model,args=('slug',), axis=1)\n",
    "supplement_model_temp[['keywords', 'first_letter', 'pinyin']] = supplement_model_temp.apply(process_keywords, axis=1)\n",
    "supplement_model_temp = supplement_model_temp.drop(['first_letter'], axis=1)\n",
    "merge = add_new_detail.loc[:, ['model_slug', 'body', 'manufacturer']].drop_duplicates(['model_slug', 'body', 'manufacturer']).rename(columns={'model_slug':'car_autohome_model_id','body':'classified','manufacturer':'mum'}).reset_index(drop=True)\n",
    "supplement_model_temp = supplement_model_temp.merge(merge, how='left', on=['car_autohome_model_id'])\n",
    "supplement_model_temp['normalized_name'] = supplement_model_temp['name']\n",
    "\n",
    "gpj_model = pd.DataFrame([], columns=combine_model.columns)\n",
    "gpj_model = gpj_model.append(supplement_model_temp, sort=False)\n",
    "gpj_model['car_autohome_model_id'] = gpj_model['car_autohome_model_id'].astype(int)\n",
    "car_autohome_model = add_new_detail.loc[:,['brand_slug','model_slug']].drop_duplicates(['brand_slug','model_slug']).rename(columns={'model_slug':'car_autohome_model_id','brand_slug':'car_autohome_brand_id'}).reset_index(drop=True)\n",
    "gpj_model = gpj_model.merge(car_autohome_model, how='left', on=['car_autohome_model_id'])\n",
    "gpj_model['parent'] = gpj_model.apply(process_brand_step2,args=(final_model, gpj_brand), axis=1)\n",
    "gpj_model = gpj_model.drop(['car_autohome_brand_id'], axis=1)\n",
    "gpj_model['has_detailmodel'] = 1\n",
    "gpj_model['units'] = 0\n",
    "gpj_model['score'] = 0\n",
    "gpj_model['status'] = 'Y'\n",
    "gpj_model['popular'] = 'B'\n",
    "gpj_model['on_sale'] = '1'\n",
    "gpj_model.to_csv('../tmp/train/add_combine_model.csv', index=False)\n",
    "print('补充车系数量:', len(list(set(supplement_model_temp.slug.values))))\n",
    "print('汽车之家车系数量:', len(list(set(add_new_detail.model_slug.values))))"
   ]
  },
  {
   "cell_type": "code",
   "execution_count": 175,
   "metadata": {},
   "outputs": [
    {
     "name": "stdout",
     "output_type": "stream",
     "text": [
      "补充款型数量: 609\n",
      "力洋匹配上款型数量: 178\n",
      "汽车之家款型数量: 31990\n"
     ]
    }
   ],
   "source": [
    "# 补充款型\n",
    "def process_model_step2(df, gpj_model, column_name):\n",
    "    return gpj_model.loc[(gpj_model['car_autohome_model_id'] == df['model_slug']), 'slug'].values[0]\n",
    "\n",
    "supplement_detail = supplement_model.append(except_model_year, sort=False).reset_index(drop=True)\n",
    "      \n",
    "liyang_detail = result_model_year.copy()\n",
    "gpj_model = combine_model.append(gpj_model, sort=False)\n",
    "liyang_detail = liyang_detail.drop(['car_autohome_model_id'], axis=1)\n",
    "supplement_detail = car_autohome_all.loc[(car_autohome_all['detail_slug'].isin(list(set(supplement_detail.detail_slug.values)))), :]\n",
    "supplement_detail = supplement_detail.loc[:, ['model_slug','detail_slug','detail_name','price_bn','online_year','volume','control','volume_extend','emission_standard','listed_year']]\n",
    "supplement_detail = supplement_detail.rename(columns={'detail_slug':'car_autohome_detail_id',\n",
    "                                                      'detail_name':'detail_model'})\n",
    "supplement_detail['model_slug'] = supplement_detail.apply(process_model_step2, args=(gpj_model, 'model_slug',), axis=1)\n",
    "supplement_detail['model_detail_slug'] = supplement_detail.apply(process_detail, args=('car_autohome_detail_id',), axis=1)\n",
    "\n",
    "gpj_detail = liyang_detail.append(supplement_detail, sort=False)\n",
    "gpj_detail = gpj_detail.rename(columns={'model_slug':'global_slug','online_year':'year','model_detail_slug':'detail_model_slug'})\n",
    "gpj_detail['created_on'] = datetime.datetime.now().strftime(\"%Y-%m-%d %H:%M:%S\")\n",
    "gpj_detail['status'] = 'Y'\n",
    "gpj_detail['has_param'] = 'Y'\n",
    "gpj_detail.to_csv('../tmp/train/add_combine_detail.csv', index=False)\n",
    "print('补充款型数量:', len(supplement_detail))\n",
    "print('力洋匹配上款型数量:', len(liyang_detail))\n",
    "print('汽车之家款型数量:', len(list(set(car_autohome_all.detail_slug.values))))"
   ]
  },
  {
   "cell_type": "markdown",
   "metadata": {},
   "source": [
    "## 七.拷贝款型库到api包"
   ]
  },
  {
   "cell_type": "code",
   "execution_count": 176,
   "metadata": {},
   "outputs": [
    {
     "name": "stdout",
     "output_type": "stream",
     "text": [
      "当前品牌数: 178\n",
      "当前车系数: 1826\n",
      "当前款型数: 34043\n",
      "新增之后品牌数: 182\n",
      "新增之后车系数: 1851\n",
      "新增之后款型数: 34582\n"
     ]
    }
   ],
   "source": [
    "def process_mum(df):\n",
    "    text = df['mum']\n",
    "    regex = re.compile(\"\\(进口\\)\")\n",
    "    if len(regex.findall(text)) != 0:\n",
    "        text = '进口' + re.sub(\"\\(进口\\)\", '', text)\n",
    "    text = text.replace('・','')\n",
    "    text = text.replace('-','')\n",
    "    text = text.replace('一汽大众奥迪','一汽奥迪')\n",
    "    text = text.replace('北京汽车','北汽')\n",
    "    text = text.replace('上汽通用','通用')\n",
    "    text = text.replace('北汽昌河','昌河汽车')\n",
    "    text = text.replace('上汽大众','上海大众')\n",
    "    text = text.replace('福田汽车','福田')\n",
    "    text = text.replace('一汽海马','海马汽车')\n",
    "    text = text.replace('Jeep','吉普')\n",
    "    text = text.replace('进口路虎','路虎')\n",
    "    text = text.replace('力帆汽车','重庆力帆')\n",
    "    text = text.replace('领克汽车','领克')\n",
    "    text = text.replace('东风启辰','东风日产')\n",
    "    text = text.replace('蔚来汽车','蔚来')\n",
    "    text = text.replace('吉利全球鹰','吉利康迪')\n",
    "    \n",
    "    return text\n",
    "\n",
    "evaluation_predict_path = '/home/ml/ProgramProject/evaluation-predict/tmp/train/'\n",
    "\n",
    "gpj_brand = pd.read_csv('../tmp/train/combine_brand.csv',low_memory=False)\n",
    "gpj_model = pd.read_csv('../tmp/train/combine_model.csv',low_memory=False)\n",
    "gpj_detail = pd.read_csv('../tmp/train/combine_detail.csv',low_memory=False)\n",
    "print('当前品牌数:', len(gpj_brand))\n",
    "print('当前车系数:', len(gpj_model))\n",
    "print('当前款型数:', len(gpj_detail))\n",
    "add_combine_brand = pd.read_csv('../tmp/train/add_combine_brand.csv')\n",
    "add_combine_model = pd.read_csv('../tmp/train/add_combine_model.csv')\n",
    "add_combine_detail = pd.read_csv('../tmp/train/add_combine_detail.csv')\n",
    "\n",
    "add_combine_model['mum'] = add_combine_model.apply(process_mum, axis=1)\n",
    "gpj_detail = gpj_detail.loc[~(gpj_detail['car_autohome_detail_id'].isin(list(set(add_combine_detail.car_autohome_detail_id.values)))), :]\n",
    "\n",
    "gpj_brand = gpj_brand.append(add_combine_brand, sort=False).reset_index(drop=True)\n",
    "gpj_model = gpj_model.append(add_combine_model, sort=False).reset_index(drop=True)\n",
    "gpj_detail = gpj_detail.append(add_combine_detail, sort=False).reset_index(drop=True)\n",
    "\n",
    "print('新增之后品牌数:', len(gpj_brand))\n",
    "print('新增之后车系数:', len(gpj_model))\n",
    "print('新增之后款型数:', len(gpj_detail))\n",
    "gpj_brand.to_csv('../tmp/train/combine_brand.csv', index=False)\n",
    "gpj_model.to_csv('../tmp/train/combine_model.csv', index=False)\n",
    "gpj_detail.to_csv('../tmp/train/combine_detail.csv', index=False)\n",
    "\n",
    "gpj_brand.to_csv(evaluation_predict_path + 'combine_brand.csv', index=False)\n",
    "gpj_model.to_csv(evaluation_predict_path + 'combine_model.csv', index=False)\n",
    "gpj_detail.to_csv(evaluation_predict_path + 'combine_detail.csv', index=False)\n",
    "\n",
    "add_combine_brand.to_csv(evaluation_predict_path + 'add_combine_brand.csv', index=False)\n",
    "add_combine_model.to_csv(evaluation_predict_path + 'add_combine_model.csv', index=False)\n",
    "add_combine_detail.to_csv(evaluation_predict_path + 'add_combine_detail.csv', index=False)"
   ]
  },
  {
   "cell_type": "code",
   "execution_count": 177,
   "metadata": {
    "scrolled": false
   },
   "outputs": [
    {
     "name": "stdout",
     "output_type": "stream",
     "text": [
      "<class 'pandas.core.frame.DataFrame'>\n",
      "Int64Index: 34582 entries, 33476 to 29157\n",
      "Data columns (total 29 columns):\n",
      "id                        26831 non-null float64\n",
      "source_id                 15019 non-null float64\n",
      "checker_runtime_id        13245 non-null float64\n",
      "old_dmodel                17752 non-null object\n",
      "detail_model              34582 non-null object\n",
      "detail_model_slug         34582 non-null object\n",
      "price_bn                  34582 non-null float64\n",
      "cont_vprice               22469 non-null float64\n",
      "url                       13245 non-null object\n",
      "global_slug               34582 non-null object\n",
      "domain                    26831 non-null object\n",
      "status                    34582 non-null object\n",
      "year                      34582 non-null int64\n",
      "has_param                 34582 non-null object\n",
      "volume                    34582 non-null float64\n",
      "vv                        22279 non-null float64\n",
      "listed_year               34582 non-null int64\n",
      "delisted_year             12241 non-null float64\n",
      "control                   34489 non-null object\n",
      "emission_standard         34378 non-null object\n",
      "volume_extend             34387 non-null object\n",
      "simple_model              26675 non-null object\n",
      "continuity_id             6722 non-null float64\n",
      "body_model                21961 non-null object\n",
      "created_on                34582 non-null object\n",
      "car_autohome_detail_id    34582 non-null int64\n",
      "model_name                34582 non-null object\n",
      "parent                    34582 non-null object\n",
      "brand_name                34582 non-null object\n",
      "dtypes: float64(9), int64(3), object(17)\n",
      "memory usage: 7.9+ MB\n"
     ]
    }
   ],
   "source": [
    "brand = gpj_brand.loc[:, ['name','slug']].rename(columns={'name':'brand_name','slug':'parent'})\n",
    "model = gpj_model.loc[:, ['name','slug','parent']].rename(columns={'name':'model_name','slug':'global_slug'})\n",
    "model = model.merge(brand, how='left', on=['parent'])\n",
    "final = gpj_detail.merge(model,how='left',on=['global_slug'])\n",
    "final = final.sort_values(by=['parent','global_slug','year','price_bn'])\n",
    "final.to_csv('../tmp/train/man.csv')\n",
    "final.info()"
   ]
  },
  {
   "cell_type": "code",
   "execution_count": null,
   "metadata": {},
   "outputs": [],
   "source": []
  }
 ],
 "metadata": {
  "hide_input": false,
  "kernelspec": {
   "display_name": "Python 3",
   "language": "python",
   "name": "python3"
  },
  "language_info": {
   "codemirror_mode": {
    "name": "ipython",
    "version": 3
   },
   "file_extension": ".py",
   "mimetype": "text/x-python",
   "name": "python",
   "nbconvert_exporter": "python",
   "pygments_lexer": "ipython3",
   "version": "3.5.2"
  }
 },
 "nbformat": 4,
 "nbformat_minor": 2
}
