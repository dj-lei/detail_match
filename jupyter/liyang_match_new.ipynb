{
 "cells": [
  {
   "cell_type": "code",
   "execution_count": 1,
   "metadata": {},
   "outputs": [
    {
     "name": "stderr",
     "output_type": "stream",
     "text": [
      "Using TensorFlow backend.\n"
     ]
    }
   ],
   "source": [
    "import os\n",
    "import gc\n",
    "import re\n",
    "import sys\n",
    "import math\n",
    "import time\n",
    "import json\n",
    "import random\n",
    "import datetime\n",
    "import traceback\n",
    "import pickle\n",
    "import pandas as pd\n",
    "import numpy as np\n",
    "from xpinyin import Pinyin\n",
    "\n",
    "from keras.preprocessing.text import Tokenizer\n",
    "from keras.preprocessing.sequence import pad_sequences"
   ]
  },
  {
   "cell_type": "code",
   "execution_count": 95,
   "metadata": {
    "hide_input": true
   },
   "outputs": [
    {
     "name": "stdout",
     "output_type": "stream",
     "text": [
      "finish query, num:2033\n"
     ]
    }
   ],
   "source": [
    "# coding=utf-8\n",
    "import os\n",
    "import re\n",
    "import sys\n",
    "import json\n",
    "import math\n",
    "import random\n",
    "import datetime\n",
    "import pandas as pd\n",
    "import numpy as np\n",
    "from sqlalchemy import create_engine\n",
    "\n",
    "# reload(sys)\n",
    "# sys.setdefaultencoding('utf8')\n",
    "\n",
    "ENCODING = 'utf-8'\n",
    "# PRODUCE_DB_ADDR_OUTTER = '10.45.138.200'\n",
    "# PRODUCE_DB_USER = 'pingjia'\n",
    "# PRODUCE_DB_PASSWD = 'De32wsxC'\n",
    "\n",
    "PRODUCE_DB_ADDR_OUTTER = '101.201.143.74'\n",
    "PRODUCE_DB_USER = 'leidengjun'\n",
    "PRODUCE_DB_PASSWD = 'ldj_DEV_~!'\n",
    "\n",
    "PRODUCE_PINGJIA_ENGINE = 'mysql+pymysql://'+PRODUCE_DB_USER+':'+PRODUCE_DB_PASSWD+'@'+PRODUCE_DB_ADDR_OUTTER+'/pingjia?charset=utf8'\n",
    "PRODUCE_CHINA_USED_CAR_ESTIMATE_ENGINE = 'mysql+pymysql://' + PRODUCE_DB_USER + ':' + PRODUCE_DB_PASSWD + '@' + PRODUCE_DB_ADDR_OUTTER + '/china_used_car_estimate?charset=utf8'\n",
    "engine = create_engine(PRODUCE_CHINA_USED_CAR_ESTIMATE_ENGINE)\n",
    "\n",
    "# query_sql = 'select * from pingjia.open_model_detail '\n",
    "query_sql = 'select * from pingjia.open_category '\n",
    "# query_sql = 'select source_id,detail_name,year,month,mile,price,city,domain,transfer_owner from crawler_car_source'\n",
    "origin_train = pd.read_sql_query(query_sql, engine)\n",
    "origin_train.to_csv('./origin_open_category.csv', index=False)\n",
    "print('finish query, num:'+str(len(origin_train)))"
   ]
  },
  {
   "cell_type": "markdown",
   "metadata": {},
   "source": [
    "### 一.车系匹配"
   ]
  },
  {
   "cell_type": "code",
   "execution_count": 49,
   "metadata": {
    "code_folding": [
     0,
     21
    ]
   },
   "outputs": [],
   "source": [
    "def process_brand_name(df):\n",
    "    \"\"\"\n",
    "    删除没用的字符\n",
    "    \"\"\"\n",
    "    text = df['brand_name']\n",
    "    text = text.replace('(', '')\n",
    "    text = text.replace(')', '')\n",
    "    text = text.replace('（', '')\n",
    "    text = text.replace('）', '')\n",
    "    text = text.replace('MINI迷你', 'MINI')\n",
    "    text = text.replace('RUF如虎', '如虎')\n",
    "    text = text.replace('Pagani', '帕加尼')\n",
    "    text = text.replace('柯尼赛格', '科尼赛克')\n",
    "    text = text.replace('布嘉迪', '布加迪')\n",
    "    text = text.replace('幻速', '北汽幻速')\n",
    "    text = text.replace('昌河', '北汽昌河')\n",
    "    text = text.replace('汽车', '')\n",
    "    text = text.replace(' ', '')\n",
    "    text = text.lower()\n",
    "    return text\n",
    "\n",
    "def process_model_name(df):\n",
    "    \"\"\"\n",
    "    删除没用的字符\n",
    "    \"\"\"\n",
    "    text = df['model_name']\n",
    "    text = text.lower()\n",
    "    text = text.replace('(', '')\n",
    "    text = text.replace(')', '')\n",
    "    text = text.replace('（', '')\n",
    "    text = text.replace('）', '')\n",
    "    text = text.replace('-', '')\n",
    "    text = text.replace('·', '')\n",
    "    text = text.replace('・', '')\n",
    "    text = text.replace('/', '')\n",
    "    text = text.replace('°', '')\n",
    "    text = text.replace('!', '')\n",
    "    text = text.replace('ⅰ', 'i')\n",
    "    text = text.replace('ⅱ', 'ii')\n",
    "    text = text.replace('ⅲ', 'iii')\n",
    "    text = text.replace('pagani', '帕加尼')\n",
    "    text = text.replace('柯尼赛格', '科尼赛克')\n",
    "    text = text.replace('科尼赛格', '科尼赛克')\n",
    "    text = text.replace('布嘉迪', '布加迪')\n",
    "    text = text.replace('吉利康迪全球鹰', '全球鹰')\n",
    "    text = text.replace('汽车', '')\n",
    "    if df['brand_name'] == '长丰猎豹':\n",
    "        text = text.replace('猎豹', '长丰猎豹')\n",
    "    if df['brand_name'] == '北汽制造':\n",
    "        text = text.replace('北汽', '')\n",
    "    if df['brand_name'] == '北汽绅宝':\n",
    "        text = text.replace('北京绅宝', '北汽绅宝')\n",
    "    if df['brand_name'] == '北汽幻速':\n",
    "        text = text.replace('幻速', '北汽幻速')\n",
    "    if df['brand_name'] == '北汽昌河':\n",
    "        text = text.replace('昌河', '北汽昌河')\n",
    "    text = text.replace(' ', '')\n",
    "    # text = text.lower()\n",
    "    return text\n",
    "\n",
    "def process_final_text(df):\n",
    "    \"\"\"\n",
    "    删除没用的字符\n",
    "    \"\"\"\n",
    "    text = df['model_name'].replace(df['brand_name'], '')\n",
    "    # text = text.lower()\n",
    "    return df['brand_name']+text"
   ]
  },
  {
   "cell_type": "code",
   "execution_count": 51,
   "metadata": {},
   "outputs": [
    {
     "name": "stdout",
     "output_type": "stream",
     "text": [
      "力洋车系数量: 1763\n",
      "车系名称重复的车系,请人工检查:\n",
      "Empty DataFrame\n",
      "Columns: [final_text, num]\n",
      "Index: []\n"
     ]
    }
   ],
   "source": [
    "open_category = pd.read_csv('../tmp/train/open_category.csv')\n",
    "open_category = open_category.loc[~(open_category['status'] == 'D'), :].reset_index(drop=True)\n",
    "\n",
    "# 人工解决的车系问题\n",
    "open_category.loc[(open_category['id'] == 204), 'name'] = '奔驰A级(进口)'\n",
    "open_category = open_category.loc[~(open_category['id'].isin([1069,1264])), :] \n",
    "\n",
    "liyang_brand = open_category.loc[(open_category['parent'].isnull()), ['id', 'name', 'slug']].rename(columns={'name': 'brand_name', 'slug': 'parent'}).reset_index(drop=True)\n",
    "liyang_model = open_category.loc[(open_category['parent'].notnull()), ['id', 'name', 'slug', 'parent']].rename(columns={'name': 'model_name',\n",
    "             'slug': 'model_slug', 'id': 'model_id'}).reset_index(drop=True)\n",
    "liyang_model = liyang_model.merge(liyang_brand, how='left', on=['parent']).rename(columns={'id': 'brand_id'})\n",
    "liyang_model = liyang_model.loc[:, ['brand_id', 'model_id', 'brand_name', 'model_name','parent', 'model_slug']]\n",
    "\n",
    "liyang_model['brand_name'] = liyang_model.apply(process_brand_name, axis=1)\n",
    "liyang_model['model_name'] = liyang_model.apply(process_model_name, axis=1)\n",
    "liyang_model['final_text'] = liyang_model.apply(process_final_text, axis=1)\n",
    "liyang_model = liyang_model.sort_values(by=['brand_name', 'model_name']).reset_index(drop=True)\n",
    "liyang_model = liyang_model.rename(columns={'brand_id':'liyang_brand_id','model_id':'liyang_model_id','parent':'brand_slug',\n",
    "                                                       'brand_name':'liyang_brand_name','model_name':'liyang_model_name'})\n",
    "print('力洋车系数量:',len(liyang_model))\n",
    "\n",
    "verify = liyang_model.groupby(['final_text'])['model_slug'].count().reset_index().rename(columns={'model_slug':'num'})\n",
    "print('车系名称重复的车系,请人工检查:')\n",
    "print(verify.loc[(verify['num'] > 1),:])\n",
    "liyang_model.to_csv('./man_liyang.csv', index=False)"
   ]
  },
  {
   "cell_type": "code",
   "execution_count": 2,
   "metadata": {
    "code_folding": [
     0,
     17
    ]
   },
   "outputs": [],
   "source": [
    "def process_brand_name(df):\n",
    "    \"\"\"\n",
    "    删除没用的字符\n",
    "    \"\"\"\n",
    "    text = df['brand_name']\n",
    "\n",
    "    text = text.replace('Jeep', '吉普')\n",
    "    text = text.replace('SWM斯威汽车', '斯威')\n",
    "    text = text.replace('名爵', 'MG')\n",
    "    text = text.replace('上汽大通', '大通')\n",
    "    text = text.replace('福汽启腾', '启腾')\n",
    "    text = text.replace('汽车', '')\n",
    "    text = text.replace('・', '')\n",
    "    text = text.replace(' ', '')\n",
    "    text = text.lower()\n",
    "    return text\n",
    "\n",
    "def process_model_name(df):\n",
    "    \"\"\"\n",
    "    删除没用的字符\n",
    "    \"\"\"\n",
    "    text = df['model_name']\n",
    "    text = text.lower()\n",
    "    text = text.replace('(', '')\n",
    "    text = text.replace(')', '')\n",
    "    text = text.replace('（', '')\n",
    "    text = text.replace('）', '')\n",
    "    text = text.replace('-', '')\n",
    "    text = text.replace('·', '')\n",
    "    text = text.replace('・', '')\n",
    "    text = text.replace('/', '')\n",
    "    text = text.replace('°', '')\n",
    "    text = text.replace('!', '')\n",
    "    text = text.replace('名爵', 'mg')\n",
    "    text = text.replace('上汽大通', '大通')\n",
    "    text = text.replace('风行', '东风风行')\n",
    "    text = text.replace('swm斯威', '斯威')\n",
    "    if df['brand_name'] == '北汽制造':\n",
    "        text = text.replace('北汽', '')\n",
    "    if df['brand_name'] == '北汽绅宝':\n",
    "        text = text.replace('绅宝', '北汽绅宝')\n",
    "    text = text.replace('汽车', '')\n",
    "    text = text.replace(' ', '')\n",
    "\n",
    "    return text\n",
    "\n",
    "def process_final_text(df):\n",
    "    \"\"\"\n",
    "    删除没用的字符\n",
    "    \"\"\"\n",
    "    text = df['model_name'].replace(df['brand_name'], '')\n",
    "    # text = text.lower()\n",
    "    return df['brand_name']+text"
   ]
  },
  {
   "cell_type": "code",
   "execution_count": 3,
   "metadata": {},
   "outputs": [
    {
     "name": "stdout",
     "output_type": "stream",
     "text": [
      "汽车之家车系数量: 1882\n",
      "车系名称重复的车系,请人工检查:\n",
      "Empty DataFrame\n",
      "Columns: [final_text, num]\n",
      "Index: []\n"
     ]
    }
   ],
   "source": [
    "car_autohome_all = pd.read_csv('../tmp/train/car_autohome_all.csv')\n",
    "car_autohome_model = car_autohome_all.loc[:, ['brand_slug', 'model_slug', 'brand_name', 'model_name']]\n",
    "car_autohome_model = car_autohome_model.drop_duplicates(['brand_slug', 'model_slug']).reset_index(drop=True)\n",
    "car_autohome_model['brand_name'] = car_autohome_model.apply(process_brand_name, axis=1)\n",
    "car_autohome_model['model_name'] = car_autohome_model.apply(process_model_name, axis=1)\n",
    "car_autohome_model['final_text'] = car_autohome_model.apply(process_final_text, axis=1)\n",
    "car_autohome_model = car_autohome_model.sort_values(by=['brand_name', 'model_name']).reset_index(drop=True)\n",
    "car_autohome_model = car_autohome_model.rename(columns={'brand_slug':'car_autohome_brand_id','model_slug':'car_autohome_model_id',\n",
    "                                                       'brand_name':'car_autohome_brand_name','model_name':'car_autohome_model_name'})\n",
    "print('汽车之家车系数量:',len(car_autohome_model))\n",
    "\n",
    "verify = car_autohome_model.groupby(['final_text'])['car_autohome_model_id'].count().reset_index().rename(columns={'car_autohome_model_id':'num'})\n",
    "print('车系名称重复的车系,请人工检查:')\n",
    "print(verify.loc[(verify['num'] > 1),:])\n",
    "\n",
    "car_autohome_model.to_csv('./man_car_autohome.csv', index=False)"
   ]
  },
  {
   "cell_type": "markdown",
   "metadata": {},
   "source": [
    "#### 车系匹配"
   ]
  },
  {
   "cell_type": "code",
   "execution_count": 44,
   "metadata": {},
   "outputs": [],
   "source": [
    "def get_slug(df,origin_combine_detail,origin_combine_model):\n",
    "    temp = origin_combine_detail.loc[(origin_combine_detail['car_autohome_detail_id'] == df['detail_slug']),:].reset_index(drop=True)\n",
    "    \n",
    "    origin_brand_slug = temp['brand_slug'][0]\n",
    "    origin_model_slug = temp['model_slug'][0]\n",
    "    origin_model_detail_slug = temp['model_detail_slug'][0]\n",
    "    \n",
    "    if df['model_slug'] != temp['car_autohome_model_id'][0]:\n",
    "        origin_model_slug = origin_combine_model.loc[(origin_combine_model['car_autohome_model_id'] == df['model_slug']),['model_slug']].values\n",
    "        if len(origin_model_slug) == 0:\n",
    "            origin_model_slug = 'car_autohome_model_'+str(df['model_slug'])\n",
    "        else:\n",
    "            origin_model_slug = origin_model_slug[0][0]\n",
    "            \n",
    "    if df['brand_slug'] != temp['car_autohome_brand_id'][0]:\n",
    "        origin_brand_slug = origin_combine_model.loc[(origin_combine_model['car_autohome_brand_id'] == df['brand_slug']),['brand_slug']].values\n",
    "        if len(origin_brand_slug) == 0:\n",
    "            origin_brand_slug = 'car_autohome_brand_'+str(df['brand_slug'])\n",
    "        else:\n",
    "            origin_brand_slug = origin_brand_slug[0][0]\n",
    "            \n",
    "    return pd.Series([origin_brand_slug,origin_model_slug,origin_model_detail_slug])\n",
    "    \n",
    "# origin_combine_model = pd.read_csv('./origin_open_category.csv')\n",
    "# origin_combine_model = origin_combine_model.loc[(origin_combine_model['status'] != 'D'),:].reset_index(drop=True)\n",
    "# origin_brand = origin_combine_model.loc[(origin_combine_model['parent'].isnull()), ['id', 'slug']].rename(columns={'slug': 'parent'}).reset_index(drop=True)\n",
    "# origin_model = origin_combine_model.loc[(origin_combine_model['parent'].notnull()), ['id', 'slug', 'parent']].rename(columns={'slug': 'model_slug', 'id': 'model_id'}).reset_index(drop=True)\n",
    "# origin_model = origin_model.merge(origin_brand, how='left', on=['parent']).rename(columns={'id': 'brand_id'})\n",
    "# origin_model = origin_model.loc[:, ['brand_id', 'model_id', 'parent', 'model_slug']]\n",
    "# origin_model = origin_model.rename(columns={'brand_id':'liyang_brand_id','model_id':'liyang_model_id','parent':'brand_slug',})\n",
    "\n",
    "# origin_open_model_detail = pd.read_csv('./origin_open_model_detail.csv').rename(columns={'global_slug':'model_slug','detail_model_slug':'model_detail_slug'})\n",
    "# origin_open_model_detail = origin_open_model_detail.loc[(origin_open_model_detail['status'] != 'D'),:].reset_index(drop=True)\n",
    "# origin_open_model_detail = origin_open_model_detail.loc[:,['id','model_slug','model_detail_slug']]\n",
    "# origin_open_model_detail = origin_open_model_detail.merge(origin_model,how='left',on=['model_slug'])\n",
    "\n",
    "combine_brand = pd.read_csv('./new_combine_brand.csv', low_memory=False)\n",
    "combine_brand = combine_brand.loc[:, ['slug','car_autohome_brand_id']].rename(columns={'slug':'brand_slug'})\n",
    "combine_model = pd.read_csv('./new_combine_model.csv', low_memory=False)\n",
    "combine_model = combine_model.loc[:, ['slug','parent','car_autohome_model_id']].rename(columns={'slug':'model_slug','parent':'brand_slug'})\n",
    "combine_detail = pd.read_csv('./new_combine_detail.csv', low_memory=False)\n",
    "combine_detail = combine_detail.loc[:, ['detail_model_slug','global_slug','car_autohome_detail_id']].rename(columns={'detail_model_slug':'model_detail_slug','global_slug':'model_slug'})\n",
    "combine_model = combine_model.merge(combine_brand,how='left',on=['brand_slug'])\n",
    "combine_detail = combine_detail.merge(combine_model,how='left',on=['model_slug'])\n",
    "\n",
    "car_autohome_all = pd.read_csv('../tmp/train/car_autohome_all.csv')\n",
    "car_autohome_all[['origin_brand_slug','origin_model_slug','origin_model_detail_slug']] = car_autohome_all.apply(get_slug, args=(combine_detail,combine_model,), axis=1)"
   ]
  },
  {
   "cell_type": "code",
   "execution_count": 63,
   "metadata": {
    "scrolled": true
   },
   "outputs": [
    {
     "name": "stdout",
     "output_type": "stream",
     "text": [
      "品牌车系数量不一致的情况: 0\n",
      "车系款型数量不一致的情况: 0\n"
     ]
    }
   ],
   "source": [
    "def cal_num(df,all_detail):\n",
    "    return pd.Series([len(all_detail.loc[(all_detail['model_slug'] == df['model_slug']),:]),len(all_detail.loc[(all_detail['origin_model_slug'] == df['origin_model_slug']),:])])\n",
    "\n",
    "final = car_autohome_all.copy()\n",
    "final = final.sort_values(by=['brand_slug','model_slug']).reset_index(drop=True)\n",
    "model = final.loc[:, ['brand_slug','model_slug','origin_brand_slug','origin_model_slug']].reset_index(drop=True)\n",
    "model = model.drop_duplicates(['model_slug','origin_model_slug']).reset_index(drop=True)\n",
    "\n",
    "part1 = model.groupby(['brand_slug'])['model_slug'].count().reset_index()\n",
    "part2 = model.groupby(['brand_slug'])['origin_model_slug'].count().reset_index()\n",
    "part1['origin_model_slug'] = part2['origin_model_slug']\n",
    "model[['model_slug_num','origin_model_slug_num']] = model.apply(cal_num, args=(final,), axis=1)\n",
    "print('品牌车系数量不一致的情况:',len(part1.loc[(part1['model_slug']!=part1['origin_model_slug']),:]))\n",
    "print('车系款型数量不一致的情况:',len(model.loc[(model['model_slug_num']!=model['origin_model_slug_num']),:]))"
   ]
  },
  {
   "cell_type": "code",
   "execution_count": 9,
   "metadata": {},
   "outputs": [],
   "source": [
    "origin_combine_model = pd.read_csv('./origin_open_category.csv')\n",
    "origin_brand = origin_combine_model.loc[(origin_combine_model['parent'].isnull()), ['id', 'slug']].rename(columns={'slug': 'parent'}).reset_index(drop=True)\n",
    "origin_model = origin_combine_model.loc[(origin_combine_model['parent'].notnull()), ['id', 'slug', 'parent']].rename(columns={'slug': 'model_slug', 'id': 'model_id'}).reset_index(drop=True)\n",
    "origin_model = origin_model.merge(origin_brand, how='left', on=['parent']).rename(columns={'id': 'brand_id'})\n",
    "origin_model = origin_model.loc[:, ['brand_id', 'model_id', 'parent', 'model_slug']]\n",
    "origin_model = origin_model.rename(columns={'brand_id':'liyang_brand_id','model_id':'liyang_model_id','parent':'brand_slug',})\n",
    "\n",
    "origin_open_model_detail = pd.read_csv('./origin_open_model_detail.csv').rename(columns={'global_slug':'model_slug','detail_model_slug':'model_detail_slug'})\n",
    "origin_open_model_detail = origin_open_model_detail.merge(origin_combine_model.loc[:,['id','model_slug','model_detail_slug']])\n",
    "\n",
    "# combine_brand = pd.read_csv('../tmp/train/combine_brand.csv', low_memory=False)\n",
    "# combine_model = pd.read_csv('../tmp/train/combine_model.csv', low_memory=False)\n",
    "# combine_detail = pd.read_csv('../tmp/train/combine_detail.csv', low_memory=False)\n",
    "\n",
    "car_autohome_all = pd.read_csv('../tmp/train/car_autohome_all.csv')\n",
    "\n",
    "\n",
    "# origin_combine_model = origin_combine_model.merge(combine_model.loc[:,['slug','car_autohome_model_id']],how='left',on=['slug'])\n",
    "\n",
    "# liyang_brand = origin_combine_model.loc[(origin_combine_model['parent'].isnull()), ['id', 'name', 'slug']].rename(columns={'name': 'brand_name', 'slug': 'parent'}).reset_index(drop=True)\n",
    "# liyang_model = origin_combine_model.loc[(origin_combine_model['parent'].notnull()), ['id', 'name', 'slug', 'parent','car_autohome_model_id']].rename(columns={'name': 'model_name',\n",
    "#              'slug': 'model_slug', 'id': 'model_id'}).reset_index(drop=True)\n",
    "# liyang_model = liyang_model.merge(liyang_brand, how='left', on=['parent']).rename(columns={'id': 'brand_id'})\n",
    "# liyang_model = liyang_model.loc[:, ['brand_id', 'model_id', 'brand_name', 'model_name','parent', 'model_slug','car_autohome_model_id']]\n",
    "# liyang_model = liyang_model.sort_values(by=['brand_name', 'model_name']).reset_index(drop=True)\n",
    "# liyang_model = liyang_model.rename(columns={'brand_id':'liyang_brand_id','model_id':'liyang_model_id','parent':'brand_slug',\n",
    "#                                                        'brand_name':'liyang_brand_name','model_name':'liyang_model_name'})\n",
    "\n",
    "# match_result = car_autohome_model.copy()\n",
    "# match_result = match_result.merge(liyang_model.loc[:, ['liyang_brand_id','liyang_model_id','brand_slug','model_slug','car_autohome_model_id']], how='left', on=['car_autohome_model_id'])\n",
    "\n",
    "# step1 = match_result.loc[(match_result['liyang_model_id'].notnull()),:].reset_index(drop=True)\n",
    "# step2 = match_result.loc[(match_result['liyang_model_id'].isnull()),:].reset_index(drop=True)\n",
    "# print('总数量:',len(match_result),'匹配数量:',len(step1),'未匹配数量:',len(step2))"
   ]
  },
  {
   "cell_type": "code",
   "execution_count": 123,
   "metadata": {},
   "outputs": [
    {
     "name": "stdout",
     "output_type": "stream",
     "text": [
      "<class 'pandas.core.frame.DataFrame'>\n",
      "Int64Index: 1880 entries, 0 to 1879\n",
      "Data columns (total 9 columns):\n",
      "car_autohome_brand_id      1880 non-null int64\n",
      "car_autohome_model_id      1880 non-null int64\n",
      "car_autohome_brand_name    1880 non-null object\n",
      "car_autohome_model_name    1880 non-null object\n",
      "final_text                 1880 non-null object\n",
      "liyang_brand_id            1531 non-null float64\n",
      "liyang_model_id            1851 non-null float64\n",
      "brand_slug                 1880 non-null object\n",
      "model_slug                 1880 non-null object\n",
      "dtypes: float64(2), int64(2), object(5)\n",
      "memory usage: 146.9+ KB\n",
      "None\n"
     ]
    }
   ],
   "source": [
    "def process_brand_slug(df):\n",
    "    if type(df['brand_slug']) == float:\n",
    "        temp = temp_match.loc[(temp_match['car_autohome_brand_name'] == df['car_autohome_brand_name'])&(temp_match['liyang_brand_id'].notnull()),:].reset_index(drop=True)\n",
    "        if len(temp) > 0:\n",
    "            liyang_brand_id = temp.loc[0,'liyang_brand_id']\n",
    "            brand_slug = temp.loc[0,'brand_slug']\n",
    "        else:\n",
    "            liyang_brand_id = np.NaN\n",
    "            brand_slug = 'car_autohome_brand_'+str(df['car_autohome_brand_id'])\n",
    "    else:\n",
    "        liyang_brand_id = df['liyang_brand_id']\n",
    "        brand_slug = df['brand_slug']\n",
    "    if type(df['model_slug']) == float:\n",
    "        model_slug = 'car_autohome_model_'+str(df['car_autohome_model_id'])\n",
    "    else:\n",
    "        model_slug = df['model_slug']\n",
    "    return pd.Series([liyang_brand_id,brand_slug,model_slug])\n",
    "\n",
    "\n",
    "brand_count = match_result.loc[:,['car_autohome_brand_id','brand_slug']].copy()\n",
    "brand_count = brand_count.drop_duplicates(['car_autohome_brand_id','brand_slug'])\n",
    "brand_count = brand_count.groupby(['brand_slug'])['car_autohome_brand_id'].count().reset_index()\n",
    "brand_count = brand_count.loc[(brand_count['car_autohome_brand_id'] > 1),:]\n",
    "match_result.loc[(match_result['brand_slug'].isin(list(set(brand_count.brand_slug.values)))),['liyang_brand_id','brand_slug']] = np.NaN,np.NaN\n",
    "temp_match = match_result.copy()\n",
    "match_result[['liyang_brand_id','brand_slug','model_slug']] = match_result.apply(process_brand_slug,axis=1)\n",
    "match_result.to_csv('./man_liyang_model_match_result.csv',index=False)\n",
    "print(match_result.info())"
   ]
  },
  {
   "cell_type": "code",
   "execution_count": 129,
   "metadata": {},
   "outputs": [
    {
     "name": "stdout",
     "output_type": "stream",
     "text": [
      "<class 'pandas.core.frame.DataFrame'>\n",
      "RangeIndex: 32672 entries, 0 to 32671\n",
      "Data columns (total 21 columns):\n",
      "detail_slug          32672 non-null int64\n",
      "brand_name           32672 non-null object\n",
      "brand_slug           32672 non-null int64\n",
      "model_name           32672 non-null object\n",
      "model_slug           32672 non-null int64\n",
      "detail_name          32672 non-null object\n",
      "manufacturer         32672 non-null object\n",
      "price_bn             32672 non-null float64\n",
      "body                 32672 non-null object\n",
      "energy               32672 non-null object\n",
      "volume_extend        32672 non-null object\n",
      "emission_standard    32672 non-null object\n",
      "listed_year          32672 non-null int64\n",
      "online_year          32672 non-null int64\n",
      "volume               32672 non-null float64\n",
      "control              32672 non-null object\n",
      "liyang_brand_id      25869 non-null float64\n",
      "liyang_model_id      32490 non-null float64\n",
      "liyang_brand_slug    32672 non-null object\n",
      "liyang_model_slug    32672 non-null object\n",
      "model_detail_slug    32672 non-null object\n",
      "dtypes: float64(4), int64(5), object(12)\n",
      "memory usage: 5.2+ MB\n"
     ]
    }
   ],
   "source": [
    "def process_detail_slug(df):\n",
    "    if type(df['model_detail_slug']) == float:\n",
    "        return 'car_autohome_detail_'+str(df['detail_slug'])\n",
    "    return df['model_detail_slug']\n",
    "\n",
    "car_autohome_final = pd.read_csv('./man.csv')\n",
    "car_autohome_final.loc[(car_autohome_final['cos_similar'] < 0.82),['liyang_detail_model','model_detail_slug','liyang_price_bn','cos_similar']] = np.NaN,np.NaN,np.NaN,np.NaN\n",
    "car_autohome_final.loc[(abs(car_autohome_final['price_bn'] - car_autohome_final['liyang_price_bn']) > 1),['liyang_detail_model','model_detail_slug','liyang_price_bn','cos_similar']] = np.NaN,np.NaN,np.NaN,np.NaN\n",
    "dup_detail = car_autohome_final.groupby(['model_detail_slug'])['liyang_detail_model'].count().reset_index()\n",
    "dup_detail = dup_detail.loc[(dup_detail['liyang_detail_model'] > 1),'model_detail_slug'].values\n",
    "car_autohome_final.loc[(car_autohome_final['model_detail_slug'].isin(dup_detail)),['liyang_detail_model','model_detail_slug','liyang_price_bn','cos_similar']] = np.NaN,np.NaN,np.NaN,np.NaN\n",
    "car_autohome_final['model_detail_slug'] = car_autohome_final.apply(process_detail_slug,axis=1)\n",
    "car_autohome_final = car_autohome_final.drop(['final_text','fill_vector','liyang_detail_model','liyang_price_bn','cos_similar'],axis=1)\n",
    "car_autohome_final.to_csv('./man1.csv',index=False)\n",
    "car_autohome_final.info()"
   ]
  },
  {
   "cell_type": "code",
   "execution_count": 65,
   "metadata": {},
   "outputs": [
    {
     "name": "stdout",
     "output_type": "stream",
     "text": [
      "<class 'pandas.core.frame.DataFrame'>\n",
      "RangeIndex: 32672 entries, 0 to 32671\n",
      "Data columns (total 19 columns):\n",
      "detail_slug                 32672 non-null int64\n",
      "brand_name                  32672 non-null object\n",
      "brand_slug                  32672 non-null int64\n",
      "model_name                  32672 non-null object\n",
      "model_slug                  32672 non-null int64\n",
      "detail_name                 32672 non-null object\n",
      "manufacturer                32672 non-null object\n",
      "price_bn                    32672 non-null float64\n",
      "body                        32672 non-null object\n",
      "energy                      32672 non-null object\n",
      "volume_extend               32672 non-null object\n",
      "emission_standard           32672 non-null object\n",
      "listed_year                 32672 non-null int64\n",
      "online_year                 32672 non-null int64\n",
      "volume                      32672 non-null float64\n",
      "control                     32672 non-null object\n",
      "origin_brand_slug           32672 non-null object\n",
      "origin_model_slug           32672 non-null object\n",
      "origin_model_detail_slug    32672 non-null object\n",
      "dtypes: float64(2), int64(5), object(12)\n",
      "memory usage: 4.7+ MB\n"
     ]
    }
   ],
   "source": [
    "car_autohome_all.info()"
   ]
  },
  {
   "cell_type": "markdown",
   "metadata": {},
   "source": [
    "### 三.品牌车系款型组装"
   ]
  },
  {
   "cell_type": "markdown",
   "metadata": {},
   "source": [
    "#### 1.品牌"
   ]
  },
  {
   "cell_type": "code",
   "execution_count": 85,
   "metadata": {
    "scrolled": true
   },
   "outputs": [
    {
     "name": "stdout",
     "output_type": "stream",
     "text": [
      "最终去重之后品牌数: 201\n",
      "汽车之家品牌数: 201\n",
      "<class 'pandas.core.frame.DataFrame'>\n",
      "Int64Index: 201 entries, 0 to 200\n",
      "Data columns (total 29 columns):\n",
      "slug                     201 non-null object\n",
      "name                     201 non-null object\n",
      "car_autohome_brand_id    201 non-null int64\n",
      "id                       171 non-null float64\n",
      "source_id                102 non-null float64\n",
      "alias                    0 non-null float64\n",
      "url                      98 non-null object\n",
      "parent                   0 non-null float64\n",
      "checker_runtime_id       86 non-null float64\n",
      "keywords                 201 non-null object\n",
      "classified               0 non-null float64\n",
      "classified_url           0 non-null float64\n",
      "slug_global              0 non-null float64\n",
      "logo_img                 138 non-null object\n",
      "mum                      0 non-null float64\n",
      "first_letter             201 non-null object\n",
      "has_detailmodel          201 non-null int64\n",
      "starting_price           0 non-null float64\n",
      "classified_slug          0 non-null float64\n",
      "thumbnail                138 non-null object\n",
      "pinyin                   201 non-null object\n",
      "status                   201 non-null object\n",
      "attribute                0 non-null float64\n",
      "units                    201 non-null int64\n",
      "popular                  201 non-null object\n",
      "on_sale                  201 non-null object\n",
      "score                    201 non-null int64\n",
      "normalized_name          0 non-null float64\n",
      "brand_area               201 non-null object\n",
      "dtypes: float64(13), int64(4), object(12)\n",
      "memory usage: 47.1+ KB\n"
     ]
    }
   ],
   "source": [
    "def process_keywords(df):\n",
    "    p = Pinyin()\n",
    "    keywords = p.get_pinyin(df['name'], '')\n",
    "    final_keywords = ','+keywords+','+df['name']+','+keywords\n",
    "    first_letter = p.get_initial(df['name'][0])\n",
    "    return pd.Series([final_keywords,first_letter,keywords])\n",
    "\n",
    "origin_combine_brand = pd.read_csv('./new_combine_brand.csv')\n",
    "origin_combine_brand = origin_combine_brand.loc[(origin_combine_brand['parent'].isnull()),:].reset_index(drop=True)\n",
    "origin_combine_brand = origin_combine_brand.drop(['name','slug'],axis=1)\n",
    "car_autohome_brand = car_autohome_all.loc[:,['origin_brand_slug','brand_name','brand_slug']].rename(columns={'origin_brand_slug':'slug','brand_slug':'car_autohome_brand_id'})\n",
    "car_autohome_brand = car_autohome_brand.drop_duplicates(['car_autohome_brand_id'])\n",
    "car_autohome_brand = car_autohome_brand.merge(origin_combine_brand,how='left',on=['car_autohome_brand_id']).rename(columns={'brand_name':'name'})\n",
    "car_autohome_brand[['keywords', 'first_letter', 'pinyin']] = car_autohome_brand.apply(process_keywords, axis=1)\n",
    "car_autohome_brand['brand_area'] = car_autohome_brand['brand_area'].fillna('国产')\n",
    "car_autohome_brand['has_detailmodel'] = 1\n",
    "car_autohome_brand['units'] = 0\n",
    "car_autohome_brand['score'] = 0\n",
    "car_autohome_brand['status'] = 'Y'\n",
    "car_autohome_brand['popular'] = 'B'\n",
    "car_autohome_brand['on_sale'] = '1'\n",
    "car_autohome_brand.to_csv('./combine_brand.csv',index=False)\n",
    "\n",
    "temp = car_autohome_brand.loc[:,['car_autohome_brand_id']]\n",
    "temp = temp.drop_duplicates(['car_autohome_brand_id'])\n",
    "print('最终去重之后品牌数:',len(temp))\n",
    "\n",
    "temp = pd.read_csv('../tmp/train/car_autohome_all.csv',low_memory=False)\n",
    "temp = temp.loc[:,['brand_slug']]\n",
    "temp = temp.drop_duplicates(['brand_slug'])\n",
    "print('汽车之家品牌数:',len(temp))\n",
    "car_autohome_brand.info()"
   ]
  },
  {
   "cell_type": "markdown",
   "metadata": {},
   "source": [
    "#### 2.车系"
   ]
  },
  {
   "cell_type": "code",
   "execution_count": 88,
   "metadata": {
    "scrolled": true
   },
   "outputs": [
    {
     "name": "stdout",
     "output_type": "stream",
     "text": [
      "<class 'pandas.core.frame.DataFrame'>\n",
      "Int64Index: 1881 entries, 0 to 1880\n",
      "Data columns (total 29 columns):\n",
      "slug                     1881 non-null object\n",
      "name                     1881 non-null object\n",
      "parent                   1881 non-null object\n",
      "classified               1881 non-null object\n",
      "mum                      1881 non-null object\n",
      "car_autohome_model_id    1881 non-null int64\n",
      "id                       1850 non-null float64\n",
      "source_id                923 non-null float64\n",
      "alias                    42 non-null object\n",
      "url                      800 non-null object\n",
      "checker_runtime_id       544 non-null float64\n",
      "keywords                 1881 non-null object\n",
      "classified_url           561 non-null object\n",
      "slug_global              0 non-null float64\n",
      "logo_img                 1827 non-null object\n",
      "first_letter             1881 non-null object\n",
      "has_detailmodel          1881 non-null int64\n",
      "starting_price           1045 non-null float64\n",
      "classified_slug          1549 non-null object\n",
      "thumbnail                1827 non-null object\n",
      "pinyin                   1881 non-null object\n",
      "status                   1881 non-null object\n",
      "attribute                1881 non-null object\n",
      "units                    1881 non-null int64\n",
      "popular                  1881 non-null object\n",
      "on_sale                  1881 non-null object\n",
      "score                    1881 non-null int64\n",
      "normalized_name          1881 non-null object\n",
      "brand_area               0 non-null float64\n",
      "dtypes: float64(6), int64(4), object(19)\n",
      "memory usage: 440.9+ KB\n"
     ]
    }
   ],
   "source": [
    "origin_combine_model = pd.read_csv('./new_combine_model.csv')\n",
    "# origin_combine_model = origin_combine_model.loc[(origin_combine_model['parent'].notnull()),:].reset_index(drop=True)\n",
    "origin_combine_model = origin_combine_model.drop(['name','parent','classified','mum','slug'],axis=1)\n",
    "car_autohome_model = car_autohome_all.loc[:,['origin_model_slug','model_name','origin_brand_slug','body', 'manufacturer','model_slug']].rename(columns={'origin_model_slug':'slug','origin_brand_slug':'parent','body':'classified','manufacturer':'mum','model_slug':'car_autohome_model_id'})\n",
    "car_autohome_model = car_autohome_model.drop_duplicates(['car_autohome_model_id'])\n",
    "car_autohome_model = car_autohome_model.merge(origin_combine_model,how='left',on=['car_autohome_model_id']).rename(columns={'model_name':'name'})\n",
    "car_autohome_model[['keywords', 'first_letter', 'pinyin']] = car_autohome_model.apply(process_keywords, axis=1)\n",
    "car_autohome_model.loc[(car_autohome_model['attribute'].isnull()), 'attribute'] = '国产'\n",
    "car_autohome_model['normalized_name'] = car_autohome_model['name']\n",
    "car_autohome_model['has_detailmodel'] = 1\n",
    "car_autohome_model['units'] = 0\n",
    "car_autohome_model['score'] = 0\n",
    "car_autohome_model['status'] = 'Y'\n",
    "car_autohome_model['popular'] = 'B'\n",
    "car_autohome_model['on_sale'] = '1'\n",
    "car_autohome_model.to_csv('./combine_model.csv',index=False)\n",
    "car_autohome_model.info()"
   ]
  },
  {
   "cell_type": "code",
   "execution_count": 90,
   "metadata": {},
   "outputs": [
    {
     "name": "stdout",
     "output_type": "stream",
     "text": [
      "<class 'pandas.core.frame.DataFrame'>\n",
      "Int64Index: 32672 entries, 0 to 32671\n",
      "Data columns (total 26 columns):\n",
      "detail_model_slug         32672 non-null object\n",
      "detail_model              32672 non-null object\n",
      "car_autohome_detail_id    32672 non-null int64\n",
      "price_bn                  32672 non-null float64\n",
      "global_slug               32672 non-null object\n",
      "year                      32672 non-null int64\n",
      "listed_year               32672 non-null int64\n",
      "volume                    32672 non-null float64\n",
      "control                   32672 non-null object\n",
      "emission_standard         32672 non-null object\n",
      "volume_extend             32672 non-null object\n",
      "id                        28599 non-null float64\n",
      "source_id                 11586 non-null float64\n",
      "checker_runtime_id        10606 non-null float64\n",
      "old_dmodel                13536 non-null object\n",
      "cont_vprice               17355 non-null float64\n",
      "url                       10606 non-null object\n",
      "domain                    20848 non-null object\n",
      "status                    32672 non-null object\n",
      "has_param                 32672 non-null object\n",
      "vv                        17287 non-null float64\n",
      "delisted_year             8902 non-null float64\n",
      "simple_model              20753 non-null object\n",
      "continuity_id             5676 non-null float64\n",
      "body_model                16998 non-null object\n",
      "created_on                32672 non-null object\n",
      "dtypes: float64(9), int64(3), object(14)\n",
      "memory usage: 6.7+ MB\n"
     ]
    }
   ],
   "source": [
    "origin_open_model_detail = pd.read_csv('./new_combine_detail.csv')\n",
    "# origin_open_model_detail = origin_open_model_detail.loc[(origin_open_model_detail['status'] != 'D'),:]\n",
    "origin_open_model_detail = origin_open_model_detail.drop(['detail_model_slug','detail_model','price_bn','global_slug','year','listed_year','volume','control','emission_standard','volume_extend'],axis=1)\n",
    "\n",
    "car_autohome_detail = car_autohome_all.loc[:,['origin_model_detail_slug','detail_name','detail_slug','price_bn','origin_model_slug','online_year','listed_year','volume','control','emission_standard','volume_extend']].rename(columns={'origin_model_detail_slug':'detail_model_slug','detail_slug':'car_autohome_detail_id','detail_name':'detail_model','origin_model_slug':'global_slug','online_year':'year'})\n",
    "car_autohome_detail = car_autohome_detail.merge(origin_open_model_detail,how='left',on=['car_autohome_detail_id'])\n",
    "car_autohome_detail['created_on'] = datetime.datetime.now().strftime(\"%Y-%m-%d %H:%M:%S\")\n",
    "car_autohome_detail['status'] = 'Y'\n",
    "car_autohome_detail['has_param'] = 'Y'\n",
    "car_autohome_detail.to_csv('./combine_detail.csv',index=False)\n",
    "car_autohome_detail.info()"
   ]
  },
  {
   "cell_type": "code",
   "execution_count": 3,
   "metadata": {},
   "outputs": [
    {
     "name": "stdout",
     "output_type": "stream",
     "text": [
      "<class 'pandas.core.frame.DataFrame'>\n",
      "Int64Index: 32672 entries, 0 to 32671\n",
      "Data columns (total 1 columns):\n",
      "detail_model_slug    32672 non-null object\n",
      "dtypes: object(1)\n",
      "memory usage: 510.5+ KB\n"
     ]
    }
   ],
   "source": [
    "test = pd.read_csv('./new_combine_detail.csv')\n",
    "test = test.loc[:,['detail_model_slug']]\n",
    "test = test.drop_duplicates(['detail_model_slug'])\n",
    "test.info()"
   ]
  },
  {
   "cell_type": "code",
   "execution_count": null,
   "metadata": {},
   "outputs": [],
   "source": []
  }
 ],
 "metadata": {
  "hide_input": false,
  "kernelspec": {
   "display_name": "Python 3",
   "language": "python",
   "name": "python3"
  },
  "language_info": {
   "codemirror_mode": {
    "name": "ipython",
    "version": 3
   },
   "file_extension": ".py",
   "mimetype": "text/x-python",
   "name": "python",
   "nbconvert_exporter": "python",
   "pygments_lexer": "ipython3",
   "version": "3.5.2"
  }
 },
 "nbformat": 4,
 "nbformat_minor": 2
}
