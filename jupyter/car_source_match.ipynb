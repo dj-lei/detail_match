{
 "cells": [
  {
   "cell_type": "code",
   "execution_count": 1,
   "metadata": {},
   "outputs": [],
   "source": [
    "import os\n",
    "import gc\n",
    "import re\n",
    "import sys\n",
    "import time\n",
    "import json\n",
    "import random\n",
    "import datetime\n",
    "import traceback\n",
    "import pickle\n",
    "import pandas as pd\n",
    "import numpy as np"
   ]
  },
  {
   "cell_type": "markdown",
   "metadata": {},
   "source": [
    "## 一.瓜子车源数据匹配"
   ]
  },
  {
   "cell_type": "code",
   "execution_count": 16,
   "metadata": {},
   "outputs": [
    {
     "data": {
      "text/html": [
       "<div>\n",
       "<style scoped>\n",
       "    .dataframe tbody tr th:only-of-type {\n",
       "        vertical-align: middle;\n",
       "    }\n",
       "\n",
       "    .dataframe tbody tr th {\n",
       "        vertical-align: top;\n",
       "    }\n",
       "\n",
       "    .dataframe thead th {\n",
       "        text-align: right;\n",
       "    }\n",
       "</style>\n",
       "<table border=\"1\" class=\"dataframe\">\n",
       "  <thead>\n",
       "    <tr style=\"text-align: right;\">\n",
       "      <th></th>\n",
       "      <th>title</th>\n",
       "      <th>brand_slug</th>\n",
       "    </tr>\n",
       "  </thead>\n",
       "  <tbody>\n",
       "  </tbody>\n",
       "</table>\n",
       "</div>"
      ],
      "text/plain": [
       "Empty DataFrame\n",
       "Columns: [title, brand_slug]\n",
       "Index: []"
      ]
     },
     "execution_count": 16,
     "metadata": {},
     "output_type": "execute_result"
    }
   ],
   "source": [
    "def process_price_bn(df):\n",
    "    if df['price_bn'] == '暂无报价':\n",
    "        return np.NAN\n",
    "    temp = re.findall(r'万',df['price_bn'])\n",
    "    if len(temp) > 1:\n",
    "        text = df['price_bn'].split('~')[1]\n",
    "    else:\n",
    "        text = df['price_bn']\n",
    "    text = text.replace('万','')\n",
    "    return float(text)\n",
    "\n",
    "def delete_str_useless(df, column_name):\n",
    "    \"\"\"\n",
    "    删除没用的字符\n",
    "    \"\"\"    \n",
    "    text = df[column_name]\n",
    "    text = text.replace('·', '')\n",
    "    text = text.replace('・', '')\n",
    "    text = text.replace('-', '')\n",
    "    text = text.replace(' ', '')\n",
    "    text = text.lower()\n",
    "    return text\n",
    "\n",
    "# 判断是否有重复final_text\n",
    "origin_train = pd.read_csv('../tmp/train/origin_train.csv')\n",
    "origin_train = origin_train.loc[(origin_train['source_id'].notnull())&(origin_train['detail_name'].notnull())\n",
    "                                &(origin_train['transfer_owner'] == 0), :].reset_index(drop=True)\n",
    "origin_train['detail_name'] = origin_train.apply(delete_str_useless, args=('detail_name',), axis=1)\n",
    "origin_train = origin_train.rename(columns={'detail_name':'title'})\n",
    "train_final = pd.read_csv('../tmp/train/train_final.csv')\n",
    "train_final = train_final.rename(columns={'final_text':'title'})\n",
    "data = train_final.groupby(['title'])['brand_slug'].count().reset_index()\n",
    "data.loc[(data['brand_slug'] > 1), :]"
   ]
  },
  {
   "cell_type": "code",
   "execution_count": 17,
   "metadata": {},
   "outputs": [
    {
     "name": "stdout",
     "output_type": "stream",
     "text": [
      "瓜子车源数据量: 146002\n",
      "瓜子车源数据匹配量: 136431 匹配率: 0.9344461034780346\n",
      "<class 'pandas.core.frame.DataFrame'>\n",
      "RangeIndex: 136431 entries, 0 to 136430\n",
      "Data columns (total 25 columns):\n",
      "id                      136431 non-null int64\n",
      "source_id               136431 non-null float64\n",
      "title                   136431 non-null object\n",
      "year                    136431 non-null float64\n",
      "month                   136431 non-null float64\n",
      "mile                    136431 non-null float64\n",
      "city                    136431 non-null object\n",
      "color                   0 non-null float64\n",
      "car_application         0 non-null float64\n",
      "price                   136431 non-null float64\n",
      "domain                  136431 non-null object\n",
      "labels                  136431 non-null object\n",
      "transfer_owner          136431 non-null int64\n",
      "annual_insurance        136431 non-null object\n",
      "compulsory_insurance    136431 non-null object\n",
      "business_insurance      136431 non-null object\n",
      "create_time             136431 non-null object\n",
      "brand_slug              136431 non-null float64\n",
      "model_slug              136431 non-null float64\n",
      "detail_slug             136431 non-null float64\n",
      "online_year             136431 non-null float64\n",
      "price_bn                136431 non-null float64\n",
      "brand_name              136431 non-null object\n",
      "model_name              136431 non-null object\n",
      "detail_name             136431 non-null object\n",
      "dtypes: float64(12), int64(2), object(11)\n",
      "memory usage: 26.0+ MB\n"
     ]
    }
   ],
   "source": [
    "# data = wait_predict.loc[(wait_predict['domain'].isin(['guazi.com'])), :]\n",
    "data = origin_train.copy()\n",
    "print('瓜子车源数据量:', len(data))\n",
    "final = data.merge(train_final, how='left', on=['title'])\n",
    "final = final.sort_values(by=['title'])\n",
    "match = final.loc[(final['online_year'].notnull())&(final['city'].notnull()), :].reset_index(drop=True)\n",
    "print('瓜子车源数据匹配量:',len(match), '匹配率:', len(match)/len(data))\n",
    "match.info()\n",
    "match.to_csv('/home/ml/ProgramProject/evaluation-predict/tmp/train/car_source_match.csv', index=False)"
   ]
  },
  {
   "cell_type": "code",
   "execution_count": null,
   "metadata": {},
   "outputs": [],
   "source": []
  }
 ],
 "metadata": {
  "hide_input": false,
  "kernelspec": {
   "display_name": "Python 3",
   "language": "python",
   "name": "python3"
  },
  "language_info": {
   "codemirror_mode": {
    "name": "ipython",
    "version": 3
   },
   "file_extension": ".py",
   "mimetype": "text/x-python",
   "name": "python",
   "nbconvert_exporter": "python",
   "pygments_lexer": "ipython3",
   "version": "3.5.2"
  }
 },
 "nbformat": 4,
 "nbformat_minor": 2
}
