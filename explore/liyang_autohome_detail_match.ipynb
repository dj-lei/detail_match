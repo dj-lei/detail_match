{
 "cells": [
  {
   "cell_type": "code",
   "execution_count": 1,
   "metadata": {},
   "outputs": [],
   "source": [
    "import math\n",
    "import os\n",
    "import gc\n",
    "import re\n",
    "import sys\n",
    "import time\n",
    "import json\n",
    "import random\n",
    "import datetime\n",
    "import traceback\n",
    "import pickle\n",
    "import pandas as pd\n",
    "import numpy as np\n",
    "\n",
    "import seaborn as sns\n",
    "import matplotlib.pyplot as plt\n",
    "from matplotlib.font_manager import FontProperties\n",
    "from scipy.optimize import leastsq\n",
    "from sklearn.linear_model import LinearRegression\n",
    "from scipy import sparse\n",
    "import numpy as np"
   ]
  },
  {
   "cell_type": "markdown",
   "metadata": {},
   "source": [
    "## 一.品牌匹配"
   ]
  },
  {
   "cell_type": "code",
   "execution_count": 5,
   "metadata": {},
   "outputs": [
    {
     "name": "stdout",
     "output_type": "stream",
     "text": [
      "汽车之家品牌数量: 196\n",
      "力洋品牌数量: 156\n",
      "<class 'pandas.core.frame.DataFrame'>\n",
      "Int64Index: 156 entries, 114 to 111\n",
      "Data columns (total 3 columns):\n",
      "id                       156 non-null int64\n",
      "brand_name               156 non-null object\n",
      "car_autohome_brand_id    112 non-null float64\n",
      "dtypes: float64(1), int64(1), object(1)\n",
      "memory usage: 4.9+ KB\n",
      "请人工匹配未匹配上品牌.\n"
     ]
    }
   ],
   "source": [
    "open_category = pd.read_csv('../tmp/train/open_category.csv')\n",
    "car_autohome_all = pd.read_csv('../tmp/train/car_autohome_all.csv')\n",
    "car_autohome_all = car_autohome_all.drop(['body','energy'],axis=1)\n",
    "car_autohome_all = car_autohome_all.loc[:, ['brand_name','brand_slug','model_name','model_slug','detail_name','detail_slug','online_year','price_bn']]\n",
    "car_autohome_all = car_autohome_all.sort_values(by=['brand_name','model_name','online_year','price_bn'])\n",
    "\n",
    "# 汽车之家品牌\n",
    "car_autohome_brand = car_autohome_all.loc[:, ['brand_name','brand_slug']].drop_duplicates(['brand_slug']).rename(columns={'brand_slug':'car_autohome_brand_id'}).reset_index(drop=True)\n",
    "print('汽车之家品牌数量:', len(car_autohome_brand))\n",
    "\n",
    "liyang_brand = open_category.loc[(open_category['parent'].isnull()), ['id','name']].rename(columns={'name':'brand_name'}).reset_index(drop=True)\n",
    "print('力洋品牌数量:', len(liyang_brand))\n",
    "brand = liyang_brand.merge(car_autohome_brand, how='left', on=['brand_name'])\n",
    "brand = brand.sort_values(by=['brand_name'])\n",
    "car_autohome_brand = car_autohome_brand.sort_values(by=['brand_name'])\n",
    "car_autohome_brand.to_csv('../tmp/train/match_car_autohome_brand.csv', index=False)\n",
    "brand.to_csv('../tmp/train/final_brand.csv', index=False)\n",
    "brand.info()\n",
    "print('请人工匹配未匹配上品牌.')"
   ]
  },
  {
   "cell_type": "markdown",
   "metadata": {},
   "source": [
    "## 二.车系匹配"
   ]
  },
  {
   "cell_type": "code",
   "execution_count": 28,
   "metadata": {},
   "outputs": [
    {
     "name": "stdout",
     "output_type": "stream",
     "text": [
      "力洋车系数量: 1765\n",
      "汽车之家车系数量: 1826\n",
      "<class 'pandas.core.frame.DataFrame'>\n",
      "Int64Index: 1765 entries, 890 to 539\n",
      "Data columns (total 7 columns):\n",
      "brand_id                 1765 non-null int64\n",
      "model_id                 1765 non-null int64\n",
      "brand_name               1765 non-null object\n",
      "model_name               1765 non-null object\n",
      "model_slug               1765 non-null object\n",
      "car_autohome_brand_id    1765 non-null float64\n",
      "car_autohome_model_id    608 non-null float64\n",
      "dtypes: float64(2), int64(2), object(3)\n",
      "memory usage: 110.3+ KB\n"
     ]
    }
   ],
   "source": [
    "brand = pd.read_csv('../tmp/train/final_brand.csv')\n",
    "\n",
    "open_category = pd.read_csv('../tmp/train/open_category.csv')\n",
    "open_model_detail = pd.read_csv('../tmp/train/open_model_detail.csv')\n",
    "open_category_brand = open_category.loc[(open_category['parent'].isnull()), ['id','slug']].rename(columns={'slug':'parent'}).reset_index(drop=True)\n",
    "brand = open_category_brand.merge(brand,how='left',on=['id'])\n",
    "model = open_category.loc[(open_category['parent'].notnull()), ['id','name','slug','parent']].rename(columns={'name':'model_name',\n",
    "                         'slug':'model_slug','id':'model_id'}).reset_index(drop=True)\n",
    "model = model.merge(brand, how='left', on=['parent']).rename(columns={'id':'brand_id'})\n",
    "model = model.loc[:, ['brand_id','model_id','brand_name','model_name','model_slug','car_autohome_brand_id']]\n",
    "print('力洋车系数量:', len(model))\n",
    "\n",
    "# 汽车之家车系\n",
    "car_autohome_model = car_autohome_all.loc[:, ['brand_slug','model_slug','model_name']].drop_duplicates(['model_slug']).rename(columns={'model_slug':'car_autohome_model_id','brand_slug':'car_autohome_brand_id'}).reset_index(drop=True)\n",
    "print('汽车之家车系数量:', len(car_autohome_model))\n",
    "\n",
    "model = model.merge(car_autohome_model, how='left', on=['car_autohome_brand_id','model_name'])\n",
    "model.loc[(model['car_autohome_brand_id'].isnull()), 'car_autohome_brand_id'] = -1\n",
    "model.loc[(model['car_autohome_brand_id'] == -1), 'car_autohome_model_id'] = -1\n",
    "model = model.sort_values(by=['brand_name','model_name'])\n",
    "model.to_csv('../tmp/train/final_model.csv', index=False)\n",
    "\n",
    "temp = car_autohome_all.loc[:, ['model_slug','brand_name','model_name']].drop_duplicates(['model_slug'])                                                                                                                            \n",
    "temp.to_csv('../tmp/train/match_car_autohome_model.csv', index=False)\n",
    "model.info()\n",
    "# model.head()\n",
    "# model = model.merge(brand, how='left', on=['parent']).rename(columns={'parent':'brand_slug'})"
   ]
  },
  {
   "cell_type": "code",
   "execution_count": 47,
   "metadata": {},
   "outputs": [
    {
     "data": {
      "text/html": [
       "<div>\n",
       "<style scoped>\n",
       "    .dataframe tbody tr th:only-of-type {\n",
       "        vertical-align: middle;\n",
       "    }\n",
       "\n",
       "    .dataframe tbody tr th {\n",
       "        vertical-align: top;\n",
       "    }\n",
       "\n",
       "    .dataframe thead th {\n",
       "        text-align: right;\n",
       "    }\n",
       "</style>\n",
       "<table border=\"1\" class=\"dataframe\">\n",
       "  <thead>\n",
       "    <tr style=\"text-align: right;\">\n",
       "      <th></th>\n",
       "      <th>brand_id</th>\n",
       "      <th>model_id</th>\n",
       "      <th>brand_name</th>\n",
       "      <th>model_name</th>\n",
       "      <th>model_slug</th>\n",
       "      <th>car_autohome_brand_id</th>\n",
       "      <th>car_autohome_model_id</th>\n",
       "    </tr>\n",
       "  </thead>\n",
       "  <tbody>\n",
       "    <tr>\n",
       "      <th>0</th>\n",
       "      <td>1851</td>\n",
       "      <td>1881</td>\n",
       "      <td>Pagani</td>\n",
       "      <td>zonda</td>\n",
       "      <td>bseries_964</td>\n",
       "      <td>61</td>\n",
       "      <td>NaN</td>\n",
       "    </tr>\n",
       "    <tr>\n",
       "      <th>1</th>\n",
       "      <td>1346</td>\n",
       "      <td>1203</td>\n",
       "      <td>一汽</td>\n",
       "      <td>佳宝</td>\n",
       "      <td>jiabao</td>\n",
       "      <td>110</td>\n",
       "      <td>NaN</td>\n",
       "    </tr>\n",
       "    <tr>\n",
       "      <th>2</th>\n",
       "      <td>1346</td>\n",
       "      <td>1295</td>\n",
       "      <td>一汽</td>\n",
       "      <td>夏利2000</td>\n",
       "      <td>xiali2000</td>\n",
       "      <td>110</td>\n",
       "      <td>NaN</td>\n",
       "    </tr>\n",
       "    <tr>\n",
       "      <th>3</th>\n",
       "      <td>1346</td>\n",
       "      <td>1291</td>\n",
       "      <td>一汽</td>\n",
       "      <td>夏利a+</td>\n",
       "      <td>xiali-ajia</td>\n",
       "      <td>110</td>\n",
       "      <td>NaN</td>\n",
       "    </tr>\n",
       "    <tr>\n",
       "      <th>4</th>\n",
       "      <td>1346</td>\n",
       "      <td>1292</td>\n",
       "      <td>一汽</td>\n",
       "      <td>夏利n3</td>\n",
       "      <td>xiali-n3</td>\n",
       "      <td>110</td>\n",
       "      <td>NaN</td>\n",
       "    </tr>\n",
       "  </tbody>\n",
       "</table>\n",
       "</div>"
      ],
      "text/plain": [
       "   brand_id  model_id brand_name model_name   model_slug  \\\n",
       "0      1851      1881     Pagani      zonda  bseries_964   \n",
       "1      1346      1203         一汽         佳宝       jiabao   \n",
       "2      1346      1295         一汽     夏利2000    xiali2000   \n",
       "3      1346      1291         一汽       夏利a+   xiali-ajia   \n",
       "4      1346      1292         一汽       夏利n3     xiali-n3   \n",
       "\n",
       "   car_autohome_brand_id  car_autohome_model_id  \n",
       "0                     61                    NaN  \n",
       "1                    110                    NaN  \n",
       "2                    110                    NaN  \n",
       "3                    110                    NaN  \n",
       "4                    110                    NaN  "
      ]
     },
     "execution_count": 47,
     "metadata": {},
     "output_type": "execute_result"
    }
   ],
   "source": [
    "def process_model_name(df):\n",
    "    text = df['model_name']\n",
    "    text = text.replace(df['brand_name'],'')\n",
    "    text = text.replace(' ', '')\n",
    "    text = text.lower()\n",
    "    return text\n",
    "\n",
    "model = pd.read_csv('../tmp/train/final_model.csv')\n",
    "part1 = model.loc[(model['car_autohome_model_id'].notnull()), :].reset_index(drop=True)\n",
    "part2 = model.loc[(model['car_autohome_model_id'].isnull()), :].reset_index(drop=True)\n",
    "part2['model_name'] = part2.apply(process_model_name, axis=1)\n",
    "part2 = part2.drop(['car_autohome_model_id'], axis=1)\n",
    "car_autohome_model = car_autohome_all.loc[:, ['brand_slug','brand_name','model_slug','model_name']].drop_duplicates(['model_slug']).rename(columns={'model_slug':'car_autohome_model_id','brand_slug':'car_autohome_brand_id'}).reset_index(drop=True)\n",
    "car_autohome_model['model_name'] = car_autohome_model.apply(process_model_name, axis=1)\n",
    "car_autohome_model = car_autohome_model.drop(['brand_name'], axis=1)\n",
    "part2 = part2.merge(car_autohome_model, how='left', on=['car_autohome_brand_id','model_name'])\n",
    "final = part1.append(part2, sort=False)\n",
    "final = final.sort_values(by=['brand_name','model_name'])\n",
    "final.to_csv('../tmp/train/final_model.csv', index=False)\n",
    "part2.head()"
   ]
  },
  {
   "cell_type": "code",
   "execution_count": 46,
   "metadata": {},
   "outputs": [
    {
     "name": "stdout",
     "output_type": "stream",
     "text": [
      "<class 'pandas.core.frame.DataFrame'>\n",
      "Int64Index: 1765 entries, 0 to 966\n",
      "Data columns (total 7 columns):\n",
      "brand_id                 1765 non-null int64\n",
      "model_id                 1765 non-null int64\n",
      "brand_name               1765 non-null object\n",
      "model_name               1765 non-null object\n",
      "model_slug               1765 non-null object\n",
      "car_autohome_brand_id    1765 non-null int64\n",
      "car_autohome_model_id    1325 non-null float64\n",
      "dtypes: float64(1), int64(3), object(3)\n",
      "memory usage: 110.3+ KB\n"
     ]
    }
   ],
   "source": [
    "temp = \n",
    "temp.info()"
   ]
  },
  {
   "cell_type": "code",
   "execution_count": null,
   "metadata": {},
   "outputs": [],
   "source": []
  }
 ],
 "metadata": {
  "kernelspec": {
   "display_name": "Python 3",
   "language": "python",
   "name": "python3"
  },
  "language_info": {
   "codemirror_mode": {
    "name": "ipython",
    "version": 3
   },
   "file_extension": ".py",
   "mimetype": "text/x-python",
   "name": "python",
   "nbconvert_exporter": "python",
   "pygments_lexer": "ipython3",
   "version": "3.5.2"
  }
 },
 "nbformat": 4,
 "nbformat_minor": 2
}
